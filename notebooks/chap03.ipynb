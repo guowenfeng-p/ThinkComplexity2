{
 "cells": [
  {
   "cell_type": "markdown",
   "metadata": {},
   "source": [
    "# Small World Graphs\n",
    "\n",
    "Code examples from [Think Complexity, 2nd edition](https://thinkcomplex.com).\n",
    "\n",
    "Copyright 2016 Allen Downey, [MIT License](http://opensource.org/licenses/MIT)"
   ]
  },
  {
   "cell_type": "code",
   "execution_count": 2,
   "metadata": {},
   "outputs": [],
   "source": [
    "%matplotlib inline\n",
    "\n",
    "import matplotlib.pyplot as plt\n",
    "import networkx as nx\n",
    "import numpy as np\n",
    "import seaborn as sns\n",
    "\n",
    "from utils import decorate, savefig\n",
    "\n",
    "# I set the random seed so the notebook \n",
    "# produces the same results every time.\n",
    "np.random.seed(17)\n",
    "\n",
    "# TODO: remove this when NetworkX is fixed\n",
    "from warnings import simplefilter\n",
    "import matplotlib.cbook\n",
    "simplefilter(\"ignore\", matplotlib.cbook.mplDeprecation)"
   ]
  },
  {
   "cell_type": "code",
   "execution_count": 3,
   "metadata": {},
   "outputs": [],
   "source": [
    "# node colors for drawing networks\n",
    "colors = sns.color_palette('pastel', 5)\n",
    "#sns.palplot(colors)\n",
    "sns.set_palette(colors)"
   ]
  },
  {
   "cell_type": "markdown",
   "metadata": {},
   "source": [
    "## Regular ring lattice"
   ]
  },
  {
   "cell_type": "markdown",
   "metadata": {},
   "source": [
    "To make a ring lattice, I'll start with a generator function that yields edges between each node and the next `halfk` neighbors."
   ]
  },
  {
   "cell_type": "code",
   "execution_count": 5,
   "metadata": {},
   "outputs": [],
   "source": [
    "#每次生成一条边\n",
    "def adjacent_edges(nodes, halfk):\n",
    "    \"\"\"Yields edges between each node and `halfk` neighbors.\n",
    "    \n",
    "    halfk: number of edges from each node\n",
    "    \"\"\"\n",
    "    n = len(nodes)\n",
    "    for i, u in enumerate(nodes):\n",
    "        for j in range(i+1, i+halfk+1):\n",
    "            v = nodes[j % n]\n",
    "            yield u, v"
   ]
  },
  {
   "cell_type": "markdown",
   "metadata": {},
   "source": [
    "We can test it with 3 nodes and `halfk=1`"
   ]
  },
  {
   "cell_type": "code",
   "execution_count": 6,
   "metadata": {},
   "outputs": [
    {
     "output_type": "stream",
     "name": "stdout",
     "text": [
      "(0, 1)\n(1, 2)\n(2, 0)\n"
     ]
    }
   ],
   "source": [
    "nodes = range(3)\n",
    "for edge in adjacent_edges(nodes, 1):\n",
    "    print(edge)"
   ]
  },
  {
   "cell_type": "markdown",
   "metadata": {},
   "source": [
    "Now we use `adjacent_edges` to write `make_ring_lattice`"
   ]
  },
  {
   "cell_type": "code",
   "execution_count": 7,
   "metadata": {},
   "outputs": [],
   "source": [
    "def make_ring_lattice(n, k):\n",
    "    \"\"\"Makes a ring lattice with `n` nodes and degree `k`.\n",
    "    \n",
    "    Note: this only works correctly if k is even.\n",
    "    \n",
    "    n: number of nodes\n",
    "    k: degree of each node\n",
    "    \"\"\"\n",
    "    G = nx.Graph()\n",
    "    nodes = range(n)\n",
    "    G.add_nodes_from(nodes)\n",
    "    G.add_edges_from(adjacent_edges(nodes, k//2))\n",
    "    return G"
   ]
  },
  {
   "cell_type": "markdown",
   "metadata": {},
   "source": [
    "And we can test it out with `n=10` and `k=4`"
   ]
  },
  {
   "cell_type": "code",
   "execution_count": 14,
   "metadata": {},
   "outputs": [
    {
     "output_type": "stream",
     "name": "stdout",
     "text": [
      "Saving figure to file figs/chap03-1\n"
     ]
    },
    {
     "output_type": "display_data",
     "data": {
      "text/plain": "<Figure size 432x288 with 1 Axes>",
      "image/svg+xml": "<?xml version=\"1.0\" encoding=\"utf-8\" standalone=\"no\"?>\r\n<!DOCTYPE svg PUBLIC \"-//W3C//DTD SVG 1.1//EN\"\r\n  \"http://www.w3.org/Graphics/SVG/1.1/DTD/svg11.dtd\">\r\n<!-- Created with matplotlib (https://matplotlib.org/) -->\r\n<svg height=\"319.078125pt\" version=\"1.1\" viewBox=\"0 0 484.045312 319.078125\" width=\"484.045312pt\" xmlns=\"http://www.w3.org/2000/svg\" xmlns:xlink=\"http://www.w3.org/1999/xlink\">\r\n <defs>\r\n  <style type=\"text/css\">\r\n*{stroke-linecap:butt;stroke-linejoin:round;}\r\n  </style>\r\n </defs>\r\n <g id=\"figure_1\">\r\n  <g id=\"patch_1\">\r\n   <path d=\"M 0 319.078125 \r\nL 484.045312 319.078125 \r\nL 484.045312 0 \r\nL 0 0 \r\nz\r\n\" style=\"fill:#ffffff;\"/>\r\n  </g>\r\n  <g id=\"axes_1\">\r\n   <g id=\"LineCollection_1\">\r\n    <path clip-path=\"url(#ped6221f9e8)\" d=\"M 450.275714 151.200004 \r\nL 414.097728 74.70924 \r\n\" style=\"fill:none;stroke:#000000;\"/>\r\n    <path clip-path=\"url(#ped6221f9e8)\" d=\"M 450.275714 151.200004 \r\nL 319.382522 27.435343 \r\n\" style=\"fill:none;stroke:#000000;\"/>\r\n    <path clip-path=\"url(#ped6221f9e8)\" d=\"M 450.275714 151.200004 \r\nL 319.38255 274.964657 \r\n\" style=\"fill:none;stroke:#000000;\"/>\r\n    <path clip-path=\"url(#ped6221f9e8)\" d=\"M 450.275714 151.200004 \r\nL 414.097716 227.690776 \r\n\" style=\"fill:none;stroke:#000000;\"/>\r\n    <path clip-path=\"url(#ped6221f9e8)\" d=\"M 414.097728 74.70924 \r\nL 319.382522 27.435343 \r\n\" style=\"fill:none;stroke:#000000;\"/>\r\n    <path clip-path=\"url(#ped6221f9e8)\" d=\"M 414.097728 74.70924 \r\nL 202.308092 27.435351 \r\n\" style=\"fill:none;stroke:#000000;\"/>\r\n    <path clip-path=\"url(#ped6221f9e8)\" d=\"M 414.097728 74.70924 \r\nL 414.097716 227.690776 \r\n\" style=\"fill:none;stroke:#000000;\"/>\r\n    <path clip-path=\"url(#ped6221f9e8)\" d=\"M 319.382522 27.435343 \r\nL 202.308092 27.435351 \r\n\" style=\"fill:none;stroke:#000000;\"/>\r\n    <path clip-path=\"url(#ped6221f9e8)\" d=\"M 319.382522 27.435343 \r\nL 107.592886 74.709248 \r\n\" style=\"fill:none;stroke:#000000;\"/>\r\n    <path clip-path=\"url(#ped6221f9e8)\" d=\"M 202.308092 27.435351 \r\nL 107.592886 74.709248 \r\n\" style=\"fill:none;stroke:#000000;\"/>\r\n    <path clip-path=\"url(#ped6221f9e8)\" d=\"M 202.308092 27.435351 \r\nL 71.414911 151.200015 \r\n\" style=\"fill:none;stroke:#000000;\"/>\r\n    <path clip-path=\"url(#ped6221f9e8)\" d=\"M 107.592886 74.709248 \r\nL 71.414911 151.200015 \r\n\" style=\"fill:none;stroke:#000000;\"/>\r\n    <path clip-path=\"url(#ped6221f9e8)\" d=\"M 107.592886 74.709248 \r\nL 107.592909 227.690783 \r\n\" style=\"fill:none;stroke:#000000;\"/>\r\n    <path clip-path=\"url(#ped6221f9e8)\" d=\"M 71.414911 151.200015 \r\nL 107.592909 227.690783 \r\n\" style=\"fill:none;stroke:#000000;\"/>\r\n    <path clip-path=\"url(#ped6221f9e8)\" d=\"M 71.414911 151.200015 \r\nL 202.308081 274.964657 \r\n\" style=\"fill:none;stroke:#000000;\"/>\r\n    <path clip-path=\"url(#ped6221f9e8)\" d=\"M 107.592909 227.690783 \r\nL 202.308081 274.964657 \r\n\" style=\"fill:none;stroke:#000000;\"/>\r\n    <path clip-path=\"url(#ped6221f9e8)\" d=\"M 107.592909 227.690783 \r\nL 319.38255 274.964657 \r\n\" style=\"fill:none;stroke:#000000;\"/>\r\n    <path clip-path=\"url(#ped6221f9e8)\" d=\"M 202.308081 274.964657 \r\nL 319.38255 274.964657 \r\n\" style=\"fill:none;stroke:#000000;\"/>\r\n    <path clip-path=\"url(#ped6221f9e8)\" d=\"M 202.308081 274.964657 \r\nL 414.097716 227.690776 \r\n\" style=\"fill:none;stroke:#000000;\"/>\r\n    <path clip-path=\"url(#ped6221f9e8)\" d=\"M 319.38255 274.964657 \r\nL 414.097716 227.690776 \r\n\" style=\"fill:none;stroke:#000000;\"/>\r\n   </g>\r\n   <g id=\"PathCollection_1\">\r\n    <defs>\r\n     <path d=\"M 0 15.811388 \r\nC 4.193229 15.811388 8.215279 14.145401 11.18034 11.18034 \r\nC 14.145401 8.215279 15.811388 4.193229 15.811388 0 \r\nC 15.811388 -4.193229 14.145401 -8.215279 11.18034 -11.18034 \r\nC 8.215279 -14.145401 4.193229 -15.811388 0 -15.811388 \r\nC -4.193229 -15.811388 -8.215279 -14.145401 -11.18034 -11.18034 \r\nC -14.145401 -8.215279 -15.811388 -4.193229 -15.811388 0 \r\nC -15.811388 4.193229 -14.145401 8.215279 -11.18034 11.18034 \r\nC -8.215279 14.145401 -4.193229 15.811388 0 15.811388 \r\nz\r\n\" id=\"m5e9539c8cb\" style=\"stroke:#a1c9f4;\"/>\r\n    </defs>\r\n    <g clip-path=\"url(#ped6221f9e8)\">\r\n     <use style=\"fill:#a1c9f4;stroke:#a1c9f4;\" x=\"450.275714\" xlink:href=\"#m5e9539c8cb\" y=\"151.200004\"/>\r\n     <use style=\"fill:#a1c9f4;stroke:#a1c9f4;\" x=\"414.097728\" xlink:href=\"#m5e9539c8cb\" y=\"74.70924\"/>\r\n     <use style=\"fill:#a1c9f4;stroke:#a1c9f4;\" x=\"319.382522\" xlink:href=\"#m5e9539c8cb\" y=\"27.435343\"/>\r\n     <use style=\"fill:#a1c9f4;stroke:#a1c9f4;\" x=\"202.308092\" xlink:href=\"#m5e9539c8cb\" y=\"27.435351\"/>\r\n     <use style=\"fill:#a1c9f4;stroke:#a1c9f4;\" x=\"107.592886\" xlink:href=\"#m5e9539c8cb\" y=\"74.709248\"/>\r\n     <use style=\"fill:#a1c9f4;stroke:#a1c9f4;\" x=\"71.414911\" xlink:href=\"#m5e9539c8cb\" y=\"151.200015\"/>\r\n     <use style=\"fill:#a1c9f4;stroke:#a1c9f4;\" x=\"107.592909\" xlink:href=\"#m5e9539c8cb\" y=\"227.690783\"/>\r\n     <use style=\"fill:#a1c9f4;stroke:#a1c9f4;\" x=\"202.308081\" xlink:href=\"#m5e9539c8cb\" y=\"274.964657\"/>\r\n     <use style=\"fill:#a1c9f4;stroke:#a1c9f4;\" x=\"319.38255\" xlink:href=\"#m5e9539c8cb\" y=\"274.964657\"/>\r\n     <use style=\"fill:#a1c9f4;stroke:#a1c9f4;\" x=\"414.097716\" xlink:href=\"#m5e9539c8cb\" y=\"227.690776\"/>\r\n    </g>\r\n   </g>\r\n   <g id=\"text_1\">\r\n    <g clip-path=\"url(#ped6221f9e8)\">\r\n     <!-- 0 -->\r\n     <defs>\r\n      <path d=\"M 31.78125 66.40625 \r\nQ 24.171875 66.40625 20.328125 58.90625 \r\nQ 16.5 51.421875 16.5 36.375 \r\nQ 16.5 21.390625 20.328125 13.890625 \r\nQ 24.171875 6.390625 31.78125 6.390625 \r\nQ 39.453125 6.390625 43.28125 13.890625 \r\nQ 47.125 21.390625 47.125 36.375 \r\nQ 47.125 51.421875 43.28125 58.90625 \r\nQ 39.453125 66.40625 31.78125 66.40625 \r\nz\r\nM 31.78125 74.21875 \r\nQ 44.046875 74.21875 50.515625 64.515625 \r\nQ 56.984375 54.828125 56.984375 36.375 \r\nQ 56.984375 17.96875 50.515625 8.265625 \r\nQ 44.046875 -1.421875 31.78125 -1.421875 \r\nQ 19.53125 -1.421875 13.0625 8.265625 \r\nQ 6.59375 17.96875 6.59375 36.375 \r\nQ 6.59375 54.828125 13.0625 64.515625 \r\nQ 19.53125 74.21875 31.78125 74.21875 \r\nz\r\n\" id=\"DejaVuSans-48\"/>\r\n     </defs>\r\n     <g transform=\"translate(446.458214 154.511254)scale(0.12 -0.12)\">\r\n      <use xlink:href=\"#DejaVuSans-48\"/>\r\n     </g>\r\n    </g>\r\n   </g>\r\n   <g id=\"text_2\">\r\n    <g clip-path=\"url(#ped6221f9e8)\">\r\n     <!-- 1 -->\r\n     <defs>\r\n      <path d=\"M 12.40625 8.296875 \r\nL 28.515625 8.296875 \r\nL 28.515625 63.921875 \r\nL 10.984375 60.40625 \r\nL 10.984375 69.390625 \r\nL 28.421875 72.90625 \r\nL 38.28125 72.90625 \r\nL 38.28125 8.296875 \r\nL 54.390625 8.296875 \r\nL 54.390625 0 \r\nL 12.40625 0 \r\nz\r\n\" id=\"DejaVuSans-49\"/>\r\n     </defs>\r\n     <g transform=\"translate(410.280228 78.02049)scale(0.12 -0.12)\">\r\n      <use xlink:href=\"#DejaVuSans-49\"/>\r\n     </g>\r\n    </g>\r\n   </g>\r\n   <g id=\"text_3\">\r\n    <g clip-path=\"url(#ped6221f9e8)\">\r\n     <!-- 2 -->\r\n     <defs>\r\n      <path d=\"M 19.1875 8.296875 \r\nL 53.609375 8.296875 \r\nL 53.609375 0 \r\nL 7.328125 0 \r\nL 7.328125 8.296875 \r\nQ 12.9375 14.109375 22.625 23.890625 \r\nQ 32.328125 33.6875 34.8125 36.53125 \r\nQ 39.546875 41.84375 41.421875 45.53125 \r\nQ 43.3125 49.21875 43.3125 52.78125 \r\nQ 43.3125 58.59375 39.234375 62.25 \r\nQ 35.15625 65.921875 28.609375 65.921875 \r\nQ 23.96875 65.921875 18.8125 64.3125 \r\nQ 13.671875 62.703125 7.8125 59.421875 \r\nL 7.8125 69.390625 \r\nQ 13.765625 71.78125 18.9375 73 \r\nQ 24.125 74.21875 28.421875 74.21875 \r\nQ 39.75 74.21875 46.484375 68.546875 \r\nQ 53.21875 62.890625 53.21875 53.421875 \r\nQ 53.21875 48.921875 51.53125 44.890625 \r\nQ 49.859375 40.875 45.40625 35.40625 \r\nQ 44.1875 33.984375 37.640625 27.21875 \r\nQ 31.109375 20.453125 19.1875 8.296875 \r\nz\r\n\" id=\"DejaVuSans-50\"/>\r\n     </defs>\r\n     <g transform=\"translate(315.565022 30.746593)scale(0.12 -0.12)\">\r\n      <use xlink:href=\"#DejaVuSans-50\"/>\r\n     </g>\r\n    </g>\r\n   </g>\r\n   <g id=\"text_4\">\r\n    <g clip-path=\"url(#ped6221f9e8)\">\r\n     <!-- 3 -->\r\n     <defs>\r\n      <path d=\"M 40.578125 39.3125 \r\nQ 47.65625 37.796875 51.625 33 \r\nQ 55.609375 28.21875 55.609375 21.1875 \r\nQ 55.609375 10.40625 48.1875 4.484375 \r\nQ 40.765625 -1.421875 27.09375 -1.421875 \r\nQ 22.515625 -1.421875 17.65625 -0.515625 \r\nQ 12.796875 0.390625 7.625 2.203125 \r\nL 7.625 11.71875 \r\nQ 11.71875 9.328125 16.59375 8.109375 \r\nQ 21.484375 6.890625 26.8125 6.890625 \r\nQ 36.078125 6.890625 40.9375 10.546875 \r\nQ 45.796875 14.203125 45.796875 21.1875 \r\nQ 45.796875 27.640625 41.28125 31.265625 \r\nQ 36.765625 34.90625 28.71875 34.90625 \r\nL 20.21875 34.90625 \r\nL 20.21875 43.015625 \r\nL 29.109375 43.015625 \r\nQ 36.375 43.015625 40.234375 45.921875 \r\nQ 44.09375 48.828125 44.09375 54.296875 \r\nQ 44.09375 59.90625 40.109375 62.90625 \r\nQ 36.140625 65.921875 28.71875 65.921875 \r\nQ 24.65625 65.921875 20.015625 65.03125 \r\nQ 15.375 64.15625 9.8125 62.3125 \r\nL 9.8125 71.09375 \r\nQ 15.4375 72.65625 20.34375 73.4375 \r\nQ 25.25 74.21875 29.59375 74.21875 \r\nQ 40.828125 74.21875 47.359375 69.109375 \r\nQ 53.90625 64.015625 53.90625 55.328125 \r\nQ 53.90625 49.265625 50.4375 45.09375 \r\nQ 46.96875 40.921875 40.578125 39.3125 \r\nz\r\n\" id=\"DejaVuSans-51\"/>\r\n     </defs>\r\n     <g transform=\"translate(198.490592 30.746601)scale(0.12 -0.12)\">\r\n      <use xlink:href=\"#DejaVuSans-51\"/>\r\n     </g>\r\n    </g>\r\n   </g>\r\n   <g id=\"text_5\">\r\n    <g clip-path=\"url(#ped6221f9e8)\">\r\n     <!-- 4 -->\r\n     <defs>\r\n      <path d=\"M 37.796875 64.3125 \r\nL 12.890625 25.390625 \r\nL 37.796875 25.390625 \r\nz\r\nM 35.203125 72.90625 \r\nL 47.609375 72.90625 \r\nL 47.609375 25.390625 \r\nL 58.015625 25.390625 \r\nL 58.015625 17.1875 \r\nL 47.609375 17.1875 \r\nL 47.609375 0 \r\nL 37.796875 0 \r\nL 37.796875 17.1875 \r\nL 4.890625 17.1875 \r\nL 4.890625 26.703125 \r\nz\r\n\" id=\"DejaVuSans-52\"/>\r\n     </defs>\r\n     <g transform=\"translate(103.775386 78.020498)scale(0.12 -0.12)\">\r\n      <use xlink:href=\"#DejaVuSans-52\"/>\r\n     </g>\r\n    </g>\r\n   </g>\r\n   <g id=\"text_6\">\r\n    <g clip-path=\"url(#ped6221f9e8)\">\r\n     <!-- 5 -->\r\n     <defs>\r\n      <path d=\"M 10.796875 72.90625 \r\nL 49.515625 72.90625 \r\nL 49.515625 64.59375 \r\nL 19.828125 64.59375 \r\nL 19.828125 46.734375 \r\nQ 21.96875 47.46875 24.109375 47.828125 \r\nQ 26.265625 48.1875 28.421875 48.1875 \r\nQ 40.625 48.1875 47.75 41.5 \r\nQ 54.890625 34.8125 54.890625 23.390625 \r\nQ 54.890625 11.625 47.5625 5.09375 \r\nQ 40.234375 -1.421875 26.90625 -1.421875 \r\nQ 22.3125 -1.421875 17.546875 -0.640625 \r\nQ 12.796875 0.140625 7.71875 1.703125 \r\nL 7.71875 11.625 \r\nQ 12.109375 9.234375 16.796875 8.0625 \r\nQ 21.484375 6.890625 26.703125 6.890625 \r\nQ 35.15625 6.890625 40.078125 11.328125 \r\nQ 45.015625 15.765625 45.015625 23.390625 \r\nQ 45.015625 31 40.078125 35.4375 \r\nQ 35.15625 39.890625 26.703125 39.890625 \r\nQ 22.75 39.890625 18.8125 39.015625 \r\nQ 14.890625 38.140625 10.796875 36.28125 \r\nz\r\n\" id=\"DejaVuSans-53\"/>\r\n     </defs>\r\n     <g transform=\"translate(67.597411 154.511265)scale(0.12 -0.12)\">\r\n      <use xlink:href=\"#DejaVuSans-53\"/>\r\n     </g>\r\n    </g>\r\n   </g>\r\n   <g id=\"text_7\">\r\n    <g clip-path=\"url(#ped6221f9e8)\">\r\n     <!-- 6 -->\r\n     <defs>\r\n      <path d=\"M 33.015625 40.375 \r\nQ 26.375 40.375 22.484375 35.828125 \r\nQ 18.609375 31.296875 18.609375 23.390625 \r\nQ 18.609375 15.53125 22.484375 10.953125 \r\nQ 26.375 6.390625 33.015625 6.390625 \r\nQ 39.65625 6.390625 43.53125 10.953125 \r\nQ 47.40625 15.53125 47.40625 23.390625 \r\nQ 47.40625 31.296875 43.53125 35.828125 \r\nQ 39.65625 40.375 33.015625 40.375 \r\nz\r\nM 52.59375 71.296875 \r\nL 52.59375 62.3125 \r\nQ 48.875 64.0625 45.09375 64.984375 \r\nQ 41.3125 65.921875 37.59375 65.921875 \r\nQ 27.828125 65.921875 22.671875 59.328125 \r\nQ 17.53125 52.734375 16.796875 39.40625 \r\nQ 19.671875 43.65625 24.015625 45.921875 \r\nQ 28.375 48.1875 33.59375 48.1875 \r\nQ 44.578125 48.1875 50.953125 41.515625 \r\nQ 57.328125 34.859375 57.328125 23.390625 \r\nQ 57.328125 12.15625 50.6875 5.359375 \r\nQ 44.046875 -1.421875 33.015625 -1.421875 \r\nQ 20.359375 -1.421875 13.671875 8.265625 \r\nQ 6.984375 17.96875 6.984375 36.375 \r\nQ 6.984375 53.65625 15.1875 63.9375 \r\nQ 23.390625 74.21875 37.203125 74.21875 \r\nQ 40.921875 74.21875 44.703125 73.484375 \r\nQ 48.484375 72.75 52.59375 71.296875 \r\nz\r\n\" id=\"DejaVuSans-54\"/>\r\n     </defs>\r\n     <g transform=\"translate(103.775409 231.002033)scale(0.12 -0.12)\">\r\n      <use xlink:href=\"#DejaVuSans-54\"/>\r\n     </g>\r\n    </g>\r\n   </g>\r\n   <g id=\"text_8\">\r\n    <g clip-path=\"url(#ped6221f9e8)\">\r\n     <!-- 7 -->\r\n     <defs>\r\n      <path d=\"M 8.203125 72.90625 \r\nL 55.078125 72.90625 \r\nL 55.078125 68.703125 \r\nL 28.609375 0 \r\nL 18.3125 0 \r\nL 43.21875 64.59375 \r\nL 8.203125 64.59375 \r\nz\r\n\" id=\"DejaVuSans-55\"/>\r\n     </defs>\r\n     <g transform=\"translate(198.490581 278.275907)scale(0.12 -0.12)\">\r\n      <use xlink:href=\"#DejaVuSans-55\"/>\r\n     </g>\r\n    </g>\r\n   </g>\r\n   <g id=\"text_9\">\r\n    <g clip-path=\"url(#ped6221f9e8)\">\r\n     <!-- 8 -->\r\n     <defs>\r\n      <path d=\"M 31.78125 34.625 \r\nQ 24.75 34.625 20.71875 30.859375 \r\nQ 16.703125 27.09375 16.703125 20.515625 \r\nQ 16.703125 13.921875 20.71875 10.15625 \r\nQ 24.75 6.390625 31.78125 6.390625 \r\nQ 38.8125 6.390625 42.859375 10.171875 \r\nQ 46.921875 13.96875 46.921875 20.515625 \r\nQ 46.921875 27.09375 42.890625 30.859375 \r\nQ 38.875 34.625 31.78125 34.625 \r\nz\r\nM 21.921875 38.8125 \r\nQ 15.578125 40.375 12.03125 44.71875 \r\nQ 8.5 49.078125 8.5 55.328125 \r\nQ 8.5 64.0625 14.71875 69.140625 \r\nQ 20.953125 74.21875 31.78125 74.21875 \r\nQ 42.671875 74.21875 48.875 69.140625 \r\nQ 55.078125 64.0625 55.078125 55.328125 \r\nQ 55.078125 49.078125 51.53125 44.71875 \r\nQ 48 40.375 41.703125 38.8125 \r\nQ 48.828125 37.15625 52.796875 32.3125 \r\nQ 56.78125 27.484375 56.78125 20.515625 \r\nQ 56.78125 9.90625 50.3125 4.234375 \r\nQ 43.84375 -1.421875 31.78125 -1.421875 \r\nQ 19.734375 -1.421875 13.25 4.234375 \r\nQ 6.78125 9.90625 6.78125 20.515625 \r\nQ 6.78125 27.484375 10.78125 32.3125 \r\nQ 14.796875 37.15625 21.921875 38.8125 \r\nz\r\nM 18.3125 54.390625 \r\nQ 18.3125 48.734375 21.84375 45.5625 \r\nQ 25.390625 42.390625 31.78125 42.390625 \r\nQ 38.140625 42.390625 41.71875 45.5625 \r\nQ 45.3125 48.734375 45.3125 54.390625 \r\nQ 45.3125 60.0625 41.71875 63.234375 \r\nQ 38.140625 66.40625 31.78125 66.40625 \r\nQ 25.390625 66.40625 21.84375 63.234375 \r\nQ 18.3125 60.0625 18.3125 54.390625 \r\nz\r\n\" id=\"DejaVuSans-56\"/>\r\n     </defs>\r\n     <g transform=\"translate(315.56505 278.275907)scale(0.12 -0.12)\">\r\n      <use xlink:href=\"#DejaVuSans-56\"/>\r\n     </g>\r\n    </g>\r\n   </g>\r\n   <g id=\"text_10\">\r\n    <g clip-path=\"url(#ped6221f9e8)\">\r\n     <!-- 9 -->\r\n     <defs>\r\n      <path d=\"M 10.984375 1.515625 \r\nL 10.984375 10.5 \r\nQ 14.703125 8.734375 18.5 7.8125 \r\nQ 22.3125 6.890625 25.984375 6.890625 \r\nQ 35.75 6.890625 40.890625 13.453125 \r\nQ 46.046875 20.015625 46.78125 33.40625 \r\nQ 43.953125 29.203125 39.59375 26.953125 \r\nQ 35.25 24.703125 29.984375 24.703125 \r\nQ 19.046875 24.703125 12.671875 31.3125 \r\nQ 6.296875 37.9375 6.296875 49.421875 \r\nQ 6.296875 60.640625 12.9375 67.421875 \r\nQ 19.578125 74.21875 30.609375 74.21875 \r\nQ 43.265625 74.21875 49.921875 64.515625 \r\nQ 56.59375 54.828125 56.59375 36.375 \r\nQ 56.59375 19.140625 48.40625 8.859375 \r\nQ 40.234375 -1.421875 26.421875 -1.421875 \r\nQ 22.703125 -1.421875 18.890625 -0.6875 \r\nQ 15.09375 0.046875 10.984375 1.515625 \r\nz\r\nM 30.609375 32.421875 \r\nQ 37.25 32.421875 41.125 36.953125 \r\nQ 45.015625 41.5 45.015625 49.421875 \r\nQ 45.015625 57.28125 41.125 61.84375 \r\nQ 37.25 66.40625 30.609375 66.40625 \r\nQ 23.96875 66.40625 20.09375 61.84375 \r\nQ 16.21875 57.28125 16.21875 49.421875 \r\nQ 16.21875 41.5 20.09375 36.953125 \r\nQ 23.96875 32.421875 30.609375 32.421875 \r\nz\r\n\" id=\"DejaVuSans-57\"/>\r\n     </defs>\r\n     <g transform=\"translate(410.280216 231.002026)scale(0.12 -0.12)\">\r\n      <use xlink:href=\"#DejaVuSans-57\"/>\r\n     </g>\r\n    </g>\r\n   </g>\r\n  </g>\r\n </g>\r\n <defs>\r\n  <clipPath id=\"ped6221f9e8\">\r\n   <rect height=\"288\" width=\"432\" x=\"44.845312\" y=\"7.2\"/>\r\n  </clipPath>\r\n </defs>\r\n</svg>\r\n",
      "image/png": "[encoded data removed]"
     },
     "metadata": {}
    }
   ],
   "source": [
    "nx.draw_circular(lattice, \n",
    "                 node_color='C0', \n",
    "                 node_size=1000, \n",
    "                 with_labels=True)\n",
    "\n",
    "savefig('figs/chap03-1')"
   ]
  },
  {
   "cell_type": "code",
   "execution_count": 13,
   "metadata": {},
   "outputs": [],
   "source": [
    "lattice = make_ring_lattice(10, 4)"
   ]
  },
  {
   "cell_type": "markdown",
   "metadata": {},
   "source": [
    "**Exercise:** To see how this function fails when `k` is odd, run it again with `k=3` or `k=5`."
   ]
  },
  {
   "cell_type": "markdown",
   "metadata": {
    "collapsed": true
   },
   "source": [
    "## WS graph"
   ]
  },
  {
   "cell_type": "markdown",
   "metadata": {},
   "source": [
    "To make a WS graph, you start with a ring lattice and then rewire."
   ]
  },
  {
   "cell_type": "code",
   "execution_count": 15,
   "metadata": {},
   "outputs": [],
   "source": [
    "def make_ws_graph(n, k, p):\n",
    "    \"\"\"Makes a Watts-Strogatz graph.\n",
    "    \n",
    "    n: number of nodes\n",
    "    k: degree of each node\n",
    "    p: probability of rewiring an edge\n",
    "    \"\"\"\n",
    "    ws = make_ring_lattice(n, k)\n",
    "    rewire(ws, p)\n",
    "    return ws"
   ]
  },
  {
   "cell_type": "markdown",
   "metadata": {},
   "source": [
    "Here's the function that does the rewiring"
   ]
  },
  {
   "cell_type": "code",
   "execution_count": 16,
   "metadata": {},
   "outputs": [],
   "source": [
    "def rewire(G, p):\n",
    "    \"\"\"Rewires each edge with probability `p`.\n",
    "    \n",
    "    G: Graph\n",
    "    p: float\n",
    "    \"\"\"\n",
    "    nodes = set(G)\n",
    "    for u, v in G.edges():\n",
    "        if flip(p):\n",
    "            choices = nodes - {u} - set(G[u])\n",
    "            new_v = np.random.choice(list(choices))\n",
    "            G.remove_edge(u, v)\n",
    "            G.add_edge(u, new_v)\n",
    "            \n",
    "def flip(p):\n",
    "    \"\"\"Returns True with probability `p`.\"\"\"\n",
    "    return np.random.random() < p"
   ]
  },
  {
   "cell_type": "markdown",
   "metadata": {},
   "source": [
    "Here's an example with `p=0.2`"
   ]
  },
  {
   "cell_type": "code",
   "execution_count": 22,
   "metadata": {},
   "outputs": [
    {
     "output_type": "display_data",
     "data": {
      "text/plain": "<Figure size 432x288 with 1 Axes>",
      "image/svg+xml": "<?xml version=\"1.0\" encoding=\"utf-8\" standalone=\"no\"?>\r\n<!DOCTYPE svg PUBLIC \"-//W3C//DTD SVG 1.1//EN\"\r\n  \"http://www.w3.org/Graphics/SVG/1.1/DTD/svg11.dtd\">\r\n<!-- Created with matplotlib (https://matplotlib.org/) -->\r\n<svg height=\"319.078125pt\" version=\"1.1\" viewBox=\"0 0 484.045312 319.078125\" width=\"484.045312pt\" xmlns=\"http://www.w3.org/2000/svg\" xmlns:xlink=\"http://www.w3.org/1999/xlink\">\r\n <defs>\r\n  <style type=\"text/css\">\r\n*{stroke-linecap:butt;stroke-linejoin:round;}\r\n  </style>\r\n </defs>\r\n <g id=\"figure_1\">\r\n  <g id=\"patch_1\">\r\n   <path d=\"M 0 319.078125 \r\nL 484.045312 319.078125 \r\nL 484.045312 0 \r\nL 0 0 \r\nz\r\n\" style=\"fill:#ffffff;\"/>\r\n  </g>\r\n  <g id=\"axes_1\">\r\n   <g id=\"LineCollection_1\">\r\n    <path clip-path=\"url(#p25034e7566)\" d=\"M 450.275714 151.200004 \r\nL 319.38255 274.964657 \r\n\" style=\"fill:none;stroke:#000000;\"/>\r\n    <path clip-path=\"url(#p25034e7566)\" d=\"M 450.275714 151.200004 \r\nL 414.097716 227.690776 \r\n\" style=\"fill:none;stroke:#000000;\"/>\r\n    <path clip-path=\"url(#p25034e7566)\" d=\"M 450.275714 151.200004 \r\nL 107.592909 227.690783 \r\n\" style=\"fill:none;stroke:#000000;\"/>\r\n    <path clip-path=\"url(#p25034e7566)\" d=\"M 450.275714 151.200004 \r\nL 202.308081 274.964657 \r\n\" style=\"fill:none;stroke:#000000;\"/>\r\n    <path clip-path=\"url(#p25034e7566)\" d=\"M 450.275714 151.200004 \r\nL 414.097728 74.70924 \r\n\" style=\"fill:none;stroke:#000000;\"/>\r\n    <path clip-path=\"url(#p25034e7566)\" d=\"M 450.275714 151.200004 \r\nL 71.414911 151.200015 \r\n\" style=\"fill:none;stroke:#000000;\"/>\r\n    <path clip-path=\"url(#p25034e7566)\" d=\"M 414.097728 74.70924 \r\nL 202.308092 27.435351 \r\n\" style=\"fill:none;stroke:#000000;\"/>\r\n    <path clip-path=\"url(#p25034e7566)\" d=\"M 414.097728 74.70924 \r\nL 414.097716 227.690776 \r\n\" style=\"fill:none;stroke:#000000;\"/>\r\n    <path clip-path=\"url(#p25034e7566)\" d=\"M 414.097728 74.70924 \r\nL 107.592886 74.709248 \r\n\" style=\"fill:none;stroke:#000000;\"/>\r\n    <path clip-path=\"url(#p25034e7566)\" d=\"M 414.097728 74.70924 \r\nL 202.308081 274.964657 \r\n\" style=\"fill:none;stroke:#000000;\"/>\r\n    <path clip-path=\"url(#p25034e7566)\" d=\"M 414.097728 74.70924 \r\nL 319.38255 274.964657 \r\n\" style=\"fill:none;stroke:#000000;\"/>\r\n    <path clip-path=\"url(#p25034e7566)\" d=\"M 319.382522 27.435343 \r\nL 107.592886 74.709248 \r\n\" style=\"fill:none;stroke:#000000;\"/>\r\n    <path clip-path=\"url(#p25034e7566)\" d=\"M 319.382522 27.435343 \r\nL 202.308081 274.964657 \r\n\" style=\"fill:none;stroke:#000000;\"/>\r\n    <path clip-path=\"url(#p25034e7566)\" d=\"M 319.382522 27.435343 \r\nL 202.308092 27.435351 \r\n\" style=\"fill:none;stroke:#000000;\"/>\r\n    <path clip-path=\"url(#p25034e7566)\" d=\"M 202.308092 27.435351 \r\nL 71.414911 151.200015 \r\n\" style=\"fill:none;stroke:#000000;\"/>\r\n    <path clip-path=\"url(#p25034e7566)\" d=\"M 202.308092 27.435351 \r\nL 107.592886 74.709248 \r\n\" style=\"fill:none;stroke:#000000;\"/>\r\n    <path clip-path=\"url(#p25034e7566)\" d=\"M 202.308092 27.435351 \r\nL 107.592909 227.690783 \r\n\" style=\"fill:none;stroke:#000000;\"/>\r\n    <path clip-path=\"url(#p25034e7566)\" d=\"M 71.414911 151.200015 \r\nL 202.308081 274.964657 \r\n\" style=\"fill:none;stroke:#000000;\"/>\r\n    <path clip-path=\"url(#p25034e7566)\" d=\"M 107.592909 227.690783 \r\nL 202.308081 274.964657 \r\n\" style=\"fill:none;stroke:#000000;\"/>\r\n    <path clip-path=\"url(#p25034e7566)\" d=\"M 202.308081 274.964657 \r\nL 414.097716 227.690776 \r\n\" style=\"fill:none;stroke:#000000;\"/>\r\n   </g>\r\n   <g id=\"PathCollection_1\">\r\n    <defs>\r\n     <path d=\"M 0 15.811388 \r\nC 4.193229 15.811388 8.215279 14.145401 11.18034 11.18034 \r\nC 14.145401 8.215279 15.811388 4.193229 15.811388 0 \r\nC 15.811388 -4.193229 14.145401 -8.215279 11.18034 -11.18034 \r\nC 8.215279 -14.145401 4.193229 -15.811388 0 -15.811388 \r\nC -4.193229 -15.811388 -8.215279 -14.145401 -11.18034 -11.18034 \r\nC -14.145401 -8.215279 -15.811388 -4.193229 -15.811388 0 \r\nC -15.811388 4.193229 -14.145401 8.215279 -11.18034 11.18034 \r\nC -8.215279 14.145401 -4.193229 15.811388 0 15.811388 \r\nz\r\n\" id=\"m85c8010383\" style=\"stroke:#ffb482;\"/>\r\n    </defs>\r\n    <g clip-path=\"url(#p25034e7566)\">\r\n     <use style=\"fill:#ffb482;stroke:#ffb482;\" x=\"450.275714\" xlink:href=\"#m85c8010383\" y=\"151.200004\"/>\r\n     <use style=\"fill:#ffb482;stroke:#ffb482;\" x=\"414.097728\" xlink:href=\"#m85c8010383\" y=\"74.70924\"/>\r\n     <use style=\"fill:#ffb482;stroke:#ffb482;\" x=\"319.382522\" xlink:href=\"#m85c8010383\" y=\"27.435343\"/>\r\n     <use style=\"fill:#ffb482;stroke:#ffb482;\" x=\"202.308092\" xlink:href=\"#m85c8010383\" y=\"27.435351\"/>\r\n     <use style=\"fill:#ffb482;stroke:#ffb482;\" x=\"107.592886\" xlink:href=\"#m85c8010383\" y=\"74.709248\"/>\r\n     <use style=\"fill:#ffb482;stroke:#ffb482;\" x=\"71.414911\" xlink:href=\"#m85c8010383\" y=\"151.200015\"/>\r\n     <use style=\"fill:#ffb482;stroke:#ffb482;\" x=\"107.592909\" xlink:href=\"#m85c8010383\" y=\"227.690783\"/>\r\n     <use style=\"fill:#ffb482;stroke:#ffb482;\" x=\"202.308081\" xlink:href=\"#m85c8010383\" y=\"274.964657\"/>\r\n     <use style=\"fill:#ffb482;stroke:#ffb482;\" x=\"319.38255\" xlink:href=\"#m85c8010383\" y=\"274.964657\"/>\r\n     <use style=\"fill:#ffb482;stroke:#ffb482;\" x=\"414.097716\" xlink:href=\"#m85c8010383\" y=\"227.690776\"/>\r\n    </g>\r\n   </g>\r\n   <g id=\"text_1\">\r\n    <g clip-path=\"url(#p25034e7566)\">\r\n     <!-- 0 -->\r\n     <defs>\r\n      <path d=\"M 31.78125 66.40625 \r\nQ 24.171875 66.40625 20.328125 58.90625 \r\nQ 16.5 51.421875 16.5 36.375 \r\nQ 16.5 21.390625 20.328125 13.890625 \r\nQ 24.171875 6.390625 31.78125 6.390625 \r\nQ 39.453125 6.390625 43.28125 13.890625 \r\nQ 47.125 21.390625 47.125 36.375 \r\nQ 47.125 51.421875 43.28125 58.90625 \r\nQ 39.453125 66.40625 31.78125 66.40625 \r\nz\r\nM 31.78125 74.21875 \r\nQ 44.046875 74.21875 50.515625 64.515625 \r\nQ 56.984375 54.828125 56.984375 36.375 \r\nQ 56.984375 17.96875 50.515625 8.265625 \r\nQ 44.046875 -1.421875 31.78125 -1.421875 \r\nQ 19.53125 -1.421875 13.0625 8.265625 \r\nQ 6.59375 17.96875 6.59375 36.375 \r\nQ 6.59375 54.828125 13.0625 64.515625 \r\nQ 19.53125 74.21875 31.78125 74.21875 \r\nz\r\n\" id=\"DejaVuSans-48\"/>\r\n     </defs>\r\n     <g transform=\"translate(446.458214 154.511254)scale(0.12 -0.12)\">\r\n      <use xlink:href=\"#DejaVuSans-48\"/>\r\n     </g>\r\n    </g>\r\n   </g>\r\n   <g id=\"text_2\">\r\n    <g clip-path=\"url(#p25034e7566)\">\r\n     <!-- 1 -->\r\n     <defs>\r\n      <path d=\"M 12.40625 8.296875 \r\nL 28.515625 8.296875 \r\nL 28.515625 63.921875 \r\nL 10.984375 60.40625 \r\nL 10.984375 69.390625 \r\nL 28.421875 72.90625 \r\nL 38.28125 72.90625 \r\nL 38.28125 8.296875 \r\nL 54.390625 8.296875 \r\nL 54.390625 0 \r\nL 12.40625 0 \r\nz\r\n\" id=\"DejaVuSans-49\"/>\r\n     </defs>\r\n     <g transform=\"translate(410.280228 78.02049)scale(0.12 -0.12)\">\r\n      <use xlink:href=\"#DejaVuSans-49\"/>\r\n     </g>\r\n    </g>\r\n   </g>\r\n   <g id=\"text_3\">\r\n    <g clip-path=\"url(#p25034e7566)\">\r\n     <!-- 2 -->\r\n     <defs>\r\n      <path d=\"M 19.1875 8.296875 \r\nL 53.609375 8.296875 \r\nL 53.609375 0 \r\nL 7.328125 0 \r\nL 7.328125 8.296875 \r\nQ 12.9375 14.109375 22.625 23.890625 \r\nQ 32.328125 33.6875 34.8125 36.53125 \r\nQ 39.546875 41.84375 41.421875 45.53125 \r\nQ 43.3125 49.21875 43.3125 52.78125 \r\nQ 43.3125 58.59375 39.234375 62.25 \r\nQ 35.15625 65.921875 28.609375 65.921875 \r\nQ 23.96875 65.921875 18.8125 64.3125 \r\nQ 13.671875 62.703125 7.8125 59.421875 \r\nL 7.8125 69.390625 \r\nQ 13.765625 71.78125 18.9375 73 \r\nQ 24.125 74.21875 28.421875 74.21875 \r\nQ 39.75 74.21875 46.484375 68.546875 \r\nQ 53.21875 62.890625 53.21875 53.421875 \r\nQ 53.21875 48.921875 51.53125 44.890625 \r\nQ 49.859375 40.875 45.40625 35.40625 \r\nQ 44.1875 33.984375 37.640625 27.21875 \r\nQ 31.109375 20.453125 19.1875 8.296875 \r\nz\r\n\" id=\"DejaVuSans-50\"/>\r\n     </defs>\r\n     <g transform=\"translate(315.565022 30.746593)scale(0.12 -0.12)\">\r\n      <use xlink:href=\"#DejaVuSans-50\"/>\r\n     </g>\r\n    </g>\r\n   </g>\r\n   <g id=\"text_4\">\r\n    <g clip-path=\"url(#p25034e7566)\">\r\n     <!-- 3 -->\r\n     <defs>\r\n      <path d=\"M 40.578125 39.3125 \r\nQ 47.65625 37.796875 51.625 33 \r\nQ 55.609375 28.21875 55.609375 21.1875 \r\nQ 55.609375 10.40625 48.1875 4.484375 \r\nQ 40.765625 -1.421875 27.09375 -1.421875 \r\nQ 22.515625 -1.421875 17.65625 -0.515625 \r\nQ 12.796875 0.390625 7.625 2.203125 \r\nL 7.625 11.71875 \r\nQ 11.71875 9.328125 16.59375 8.109375 \r\nQ 21.484375 6.890625 26.8125 6.890625 \r\nQ 36.078125 6.890625 40.9375 10.546875 \r\nQ 45.796875 14.203125 45.796875 21.1875 \r\nQ 45.796875 27.640625 41.28125 31.265625 \r\nQ 36.765625 34.90625 28.71875 34.90625 \r\nL 20.21875 34.90625 \r\nL 20.21875 43.015625 \r\nL 29.109375 43.015625 \r\nQ 36.375 43.015625 40.234375 45.921875 \r\nQ 44.09375 48.828125 44.09375 54.296875 \r\nQ 44.09375 59.90625 40.109375 62.90625 \r\nQ 36.140625 65.921875 28.71875 65.921875 \r\nQ 24.65625 65.921875 20.015625 65.03125 \r\nQ 15.375 64.15625 9.8125 62.3125 \r\nL 9.8125 71.09375 \r\nQ 15.4375 72.65625 20.34375 73.4375 \r\nQ 25.25 74.21875 29.59375 74.21875 \r\nQ 40.828125 74.21875 47.359375 69.109375 \r\nQ 53.90625 64.015625 53.90625 55.328125 \r\nQ 53.90625 49.265625 50.4375 45.09375 \r\nQ 46.96875 40.921875 40.578125 39.3125 \r\nz\r\n\" id=\"DejaVuSans-51\"/>\r\n     </defs>\r\n     <g transform=\"translate(198.490592 30.746601)scale(0.12 -0.12)\">\r\n      <use xlink:href=\"#DejaVuSans-51\"/>\r\n     </g>\r\n    </g>\r\n   </g>\r\n   <g id=\"text_5\">\r\n    <g clip-path=\"url(#p25034e7566)\">\r\n     <!-- 4 -->\r\n     <defs>\r\n      <path d=\"M 37.796875 64.3125 \r\nL 12.890625 25.390625 \r\nL 37.796875 25.390625 \r\nz\r\nM 35.203125 72.90625 \r\nL 47.609375 72.90625 \r\nL 47.609375 25.390625 \r\nL 58.015625 25.390625 \r\nL 58.015625 17.1875 \r\nL 47.609375 17.1875 \r\nL 47.609375 0 \r\nL 37.796875 0 \r\nL 37.796875 17.1875 \r\nL 4.890625 17.1875 \r\nL 4.890625 26.703125 \r\nz\r\n\" id=\"DejaVuSans-52\"/>\r\n     </defs>\r\n     <g transform=\"translate(103.775386 78.020498)scale(0.12 -0.12)\">\r\n      <use xlink:href=\"#DejaVuSans-52\"/>\r\n     </g>\r\n    </g>\r\n   </g>\r\n   <g id=\"text_6\">\r\n    <g clip-path=\"url(#p25034e7566)\">\r\n     <!-- 5 -->\r\n     <defs>\r\n      <path d=\"M 10.796875 72.90625 \r\nL 49.515625 72.90625 \r\nL 49.515625 64.59375 \r\nL 19.828125 64.59375 \r\nL 19.828125 46.734375 \r\nQ 21.96875 47.46875 24.109375 47.828125 \r\nQ 26.265625 48.1875 28.421875 48.1875 \r\nQ 40.625 48.1875 47.75 41.5 \r\nQ 54.890625 34.8125 54.890625 23.390625 \r\nQ 54.890625 11.625 47.5625 5.09375 \r\nQ 40.234375 -1.421875 26.90625 -1.421875 \r\nQ 22.3125 -1.421875 17.546875 -0.640625 \r\nQ 12.796875 0.140625 7.71875 1.703125 \r\nL 7.71875 11.625 \r\nQ 12.109375 9.234375 16.796875 8.0625 \r\nQ 21.484375 6.890625 26.703125 6.890625 \r\nQ 35.15625 6.890625 40.078125 11.328125 \r\nQ 45.015625 15.765625 45.015625 23.390625 \r\nQ 45.015625 31 40.078125 35.4375 \r\nQ 35.15625 39.890625 26.703125 39.890625 \r\nQ 22.75 39.890625 18.8125 39.015625 \r\nQ 14.890625 38.140625 10.796875 36.28125 \r\nz\r\n\" id=\"DejaVuSans-53\"/>\r\n     </defs>\r\n     <g transform=\"translate(67.597411 154.511265)scale(0.12 -0.12)\">\r\n      <use xlink:href=\"#DejaVuSans-53\"/>\r\n     </g>\r\n    </g>\r\n   </g>\r\n   <g id=\"text_7\">\r\n    <g clip-path=\"url(#p25034e7566)\">\r\n     <!-- 6 -->\r\n     <defs>\r\n      <path d=\"M 33.015625 40.375 \r\nQ 26.375 40.375 22.484375 35.828125 \r\nQ 18.609375 31.296875 18.609375 23.390625 \r\nQ 18.609375 15.53125 22.484375 10.953125 \r\nQ 26.375 6.390625 33.015625 6.390625 \r\nQ 39.65625 6.390625 43.53125 10.953125 \r\nQ 47.40625 15.53125 47.40625 23.390625 \r\nQ 47.40625 31.296875 43.53125 35.828125 \r\nQ 39.65625 40.375 33.015625 40.375 \r\nz\r\nM 52.59375 71.296875 \r\nL 52.59375 62.3125 \r\nQ 48.875 64.0625 45.09375 64.984375 \r\nQ 41.3125 65.921875 37.59375 65.921875 \r\nQ 27.828125 65.921875 22.671875 59.328125 \r\nQ 17.53125 52.734375 16.796875 39.40625 \r\nQ 19.671875 43.65625 24.015625 45.921875 \r\nQ 28.375 48.1875 33.59375 48.1875 \r\nQ 44.578125 48.1875 50.953125 41.515625 \r\nQ 57.328125 34.859375 57.328125 23.390625 \r\nQ 57.328125 12.15625 50.6875 5.359375 \r\nQ 44.046875 -1.421875 33.015625 -1.421875 \r\nQ 20.359375 -1.421875 13.671875 8.265625 \r\nQ 6.984375 17.96875 6.984375 36.375 \r\nQ 6.984375 53.65625 15.1875 63.9375 \r\nQ 23.390625 74.21875 37.203125 74.21875 \r\nQ 40.921875 74.21875 44.703125 73.484375 \r\nQ 48.484375 72.75 52.59375 71.296875 \r\nz\r\n\" id=\"DejaVuSans-54\"/>\r\n     </defs>\r\n     <g transform=\"translate(103.775409 231.002033)scale(0.12 -0.12)\">\r\n      <use xlink:href=\"#DejaVuSans-54\"/>\r\n     </g>\r\n    </g>\r\n   </g>\r\n   <g id=\"text_8\">\r\n    <g clip-path=\"url(#p25034e7566)\">\r\n     <!-- 7 -->\r\n     <defs>\r\n      <path d=\"M 8.203125 72.90625 \r\nL 55.078125 72.90625 \r\nL 55.078125 68.703125 \r\nL 28.609375 0 \r\nL 18.3125 0 \r\nL 43.21875 64.59375 \r\nL 8.203125 64.59375 \r\nz\r\n\" id=\"DejaVuSans-55\"/>\r\n     </defs>\r\n     <g transform=\"translate(198.490581 278.275907)scale(0.12 -0.12)\">\r\n      <use xlink:href=\"#DejaVuSans-55\"/>\r\n     </g>\r\n    </g>\r\n   </g>\r\n   <g id=\"text_9\">\r\n    <g clip-path=\"url(#p25034e7566)\">\r\n     <!-- 8 -->\r\n     <defs>\r\n      <path d=\"M 31.78125 34.625 \r\nQ 24.75 34.625 20.71875 30.859375 \r\nQ 16.703125 27.09375 16.703125 20.515625 \r\nQ 16.703125 13.921875 20.71875 10.15625 \r\nQ 24.75 6.390625 31.78125 6.390625 \r\nQ 38.8125 6.390625 42.859375 10.171875 \r\nQ 46.921875 13.96875 46.921875 20.515625 \r\nQ 46.921875 27.09375 42.890625 30.859375 \r\nQ 38.875 34.625 31.78125 34.625 \r\nz\r\nM 21.921875 38.8125 \r\nQ 15.578125 40.375 12.03125 44.71875 \r\nQ 8.5 49.078125 8.5 55.328125 \r\nQ 8.5 64.0625 14.71875 69.140625 \r\nQ 20.953125 74.21875 31.78125 74.21875 \r\nQ 42.671875 74.21875 48.875 69.140625 \r\nQ 55.078125 64.0625 55.078125 55.328125 \r\nQ 55.078125 49.078125 51.53125 44.71875 \r\nQ 48 40.375 41.703125 38.8125 \r\nQ 48.828125 37.15625 52.796875 32.3125 \r\nQ 56.78125 27.484375 56.78125 20.515625 \r\nQ 56.78125 9.90625 50.3125 4.234375 \r\nQ 43.84375 -1.421875 31.78125 -1.421875 \r\nQ 19.734375 -1.421875 13.25 4.234375 \r\nQ 6.78125 9.90625 6.78125 20.515625 \r\nQ 6.78125 27.484375 10.78125 32.3125 \r\nQ 14.796875 37.15625 21.921875 38.8125 \r\nz\r\nM 18.3125 54.390625 \r\nQ 18.3125 48.734375 21.84375 45.5625 \r\nQ 25.390625 42.390625 31.78125 42.390625 \r\nQ 38.140625 42.390625 41.71875 45.5625 \r\nQ 45.3125 48.734375 45.3125 54.390625 \r\nQ 45.3125 60.0625 41.71875 63.234375 \r\nQ 38.140625 66.40625 31.78125 66.40625 \r\nQ 25.390625 66.40625 21.84375 63.234375 \r\nQ 18.3125 60.0625 18.3125 54.390625 \r\nz\r\n\" id=\"DejaVuSans-56\"/>\r\n     </defs>\r\n     <g transform=\"translate(315.56505 278.275907)scale(0.12 -0.12)\">\r\n      <use xlink:href=\"#DejaVuSans-56\"/>\r\n     </g>\r\n    </g>\r\n   </g>\r\n   <g id=\"text_10\">\r\n    <g clip-path=\"url(#p25034e7566)\">\r\n     <!-- 9 -->\r\n     <defs>\r\n      <path d=\"M 10.984375 1.515625 \r\nL 10.984375 10.5 \r\nQ 14.703125 8.734375 18.5 7.8125 \r\nQ 22.3125 6.890625 25.984375 6.890625 \r\nQ 35.75 6.890625 40.890625 13.453125 \r\nQ 46.046875 20.015625 46.78125 33.40625 \r\nQ 43.953125 29.203125 39.59375 26.953125 \r\nQ 35.25 24.703125 29.984375 24.703125 \r\nQ 19.046875 24.703125 12.671875 31.3125 \r\nQ 6.296875 37.9375 6.296875 49.421875 \r\nQ 6.296875 60.640625 12.9375 67.421875 \r\nQ 19.578125 74.21875 30.609375 74.21875 \r\nQ 43.265625 74.21875 49.921875 64.515625 \r\nQ 56.59375 54.828125 56.59375 36.375 \r\nQ 56.59375 19.140625 48.40625 8.859375 \r\nQ 40.234375 -1.421875 26.421875 -1.421875 \r\nQ 22.703125 -1.421875 18.890625 -0.6875 \r\nQ 15.09375 0.046875 10.984375 1.515625 \r\nz\r\nM 30.609375 32.421875 \r\nQ 37.25 32.421875 41.125 36.953125 \r\nQ 45.015625 41.5 45.015625 49.421875 \r\nQ 45.015625 57.28125 41.125 61.84375 \r\nQ 37.25 66.40625 30.609375 66.40625 \r\nQ 23.96875 66.40625 20.09375 61.84375 \r\nQ 16.21875 57.28125 16.21875 49.421875 \r\nQ 16.21875 41.5 20.09375 36.953125 \r\nQ 23.96875 32.421875 30.609375 32.421875 \r\nz\r\n\" id=\"DejaVuSans-57\"/>\r\n     </defs>\r\n     <g transform=\"translate(410.280216 231.002026)scale(0.12 -0.12)\">\r\n      <use xlink:href=\"#DejaVuSans-57\"/>\r\n     </g>\r\n    </g>\r\n   </g>\r\n  </g>\r\n </g>\r\n <defs>\r\n  <clipPath id=\"p25034e7566\">\r\n   <rect height=\"288\" width=\"432\" x=\"44.845312\" y=\"7.2\"/>\r\n  </clipPath>\r\n </defs>\r\n</svg>\r\n",
      "image/png": "[encoded data removed]"
     },
     "metadata": {}
    }
   ],
   "source": [
    "ws = make_ws_graph(10, 4, 0.9)\n",
    "nx.draw_circular(ws, \n",
    "                 node_color='C1', \n",
    "                 node_size=1000, \n",
    "                 with_labels=True)"
   ]
  },
  {
   "cell_type": "markdown",
   "metadata": {},
   "source": [
    "Just checking that we have the same number of edges we started with:"
   ]
  },
  {
   "cell_type": "code",
   "execution_count": 23,
   "metadata": {},
   "outputs": [
    {
     "output_type": "execute_result",
     "data": {
      "text/plain": [
       "(20, 20)"
      ]
     },
     "metadata": {},
     "execution_count": 23
    }
   ],
   "source": [
    "len(lattice.edges()), len(ws.edges())"
   ]
  },
  {
   "cell_type": "markdown",
   "metadata": {},
   "source": [
    "Now I'll generate a plot that shows WS graphs for a few values of `p`"
   ]
  },
  {
   "cell_type": "code",
   "execution_count": 24,
   "metadata": {},
   "outputs": [
    {
     "output_type": "stream",
     "name": "stdout",
     "text": [
      "Saving figure to file figs/chap03-2\n"
     ]
    },
    {
     "output_type": "display_data",
     "data": {
      "text/plain": "<Figure size 432x288 with 3 Axes>",
      "image/svg+xml": "<?xml version=\"1.0\" encoding=\"utf-8\" standalone=\"no\"?>\r\n<!DOCTYPE svg PUBLIC \"-//W3C//DTD SVG 1.1//EN\"\r\n  \"http://www.w3.org/Graphics/SVG/1.1/DTD/svg11.dtd\">\r\n<!-- Created with matplotlib (https://matplotlib.org/) -->\r\n<svg height=\"248.518125pt\" version=\"1.1\" viewBox=\"0 0 370.942187 248.518125\" width=\"370.942187pt\" xmlns=\"http://www.w3.org/2000/svg\" xmlns:xlink=\"http://www.w3.org/1999/xlink\">\r\n <defs>\r\n  <style type=\"text/css\">\r\n*{stroke-linecap:butt;stroke-linejoin:round;}\r\n  </style>\r\n </defs>\r\n <g id=\"figure_1\">\r\n  <g id=\"patch_1\">\r\n   <path d=\"M 0 248.518125 \r\nL 370.942187 248.518125 \r\nL 370.942187 0 \r\nL 0 0 \r\nz\r\n\" style=\"fill:#ffffff;\"/>\r\n  </g>\r\n  <g id=\"axes_1\">\r\n   <g id=\"LineCollection_1\">\r\n    <path clip-path=\"url(#p90453a91b6)\" d=\"M 120.773937 115.920001 \r\nL 112.638739 90.882433 \r\n\" style=\"fill:none;stroke:#000000;\"/>\r\n    <path clip-path=\"url(#p90453a91b6)\" d=\"M 120.773937 115.920001 \r\nL 91.340509 75.408363 \r\n\" style=\"fill:none;stroke:#000000;\"/>\r\n    <path clip-path=\"url(#p90453a91b6)\" d=\"M 120.773937 115.920001 \r\nL 91.340516 156.431637 \r\n\" style=\"fill:none;stroke:#000000;\"/>\r\n    <path clip-path=\"url(#p90453a91b6)\" d=\"M 120.773937 115.920001 \r\nL 112.638736 140.957572 \r\n\" style=\"fill:none;stroke:#000000;\"/>\r\n    <path clip-path=\"url(#p90453a91b6)\" d=\"M 112.638739 90.882433 \r\nL 91.340509 75.408363 \r\n\" style=\"fill:none;stroke:#000000;\"/>\r\n    <path clip-path=\"url(#p90453a91b6)\" d=\"M 112.638739 90.882433 \r\nL 65.014451 75.408366 \r\n\" style=\"fill:none;stroke:#000000;\"/>\r\n    <path clip-path=\"url(#p90453a91b6)\" d=\"M 112.638739 90.882433 \r\nL 112.638736 140.957572 \r\n\" style=\"fill:none;stroke:#000000;\"/>\r\n    <path clip-path=\"url(#p90453a91b6)\" d=\"M 91.340509 75.408363 \r\nL 65.014451 75.408366 \r\n\" style=\"fill:none;stroke:#000000;\"/>\r\n    <path clip-path=\"url(#p90453a91b6)\" d=\"M 91.340509 75.408363 \r\nL 43.716222 90.882436 \r\n\" style=\"fill:none;stroke:#000000;\"/>\r\n    <path clip-path=\"url(#p90453a91b6)\" d=\"M 65.014451 75.408366 \r\nL 43.716222 90.882436 \r\n\" style=\"fill:none;stroke:#000000;\"/>\r\n    <path clip-path=\"url(#p90453a91b6)\" d=\"M 65.014451 75.408366 \r\nL 35.581026 115.920005 \r\n\" style=\"fill:none;stroke:#000000;\"/>\r\n    <path clip-path=\"url(#p90453a91b6)\" d=\"M 43.716222 90.882436 \r\nL 35.581026 115.920005 \r\n\" style=\"fill:none;stroke:#000000;\"/>\r\n    <path clip-path=\"url(#p90453a91b6)\" d=\"M 43.716222 90.882436 \r\nL 43.716227 140.957575 \r\n\" style=\"fill:none;stroke:#000000;\"/>\r\n    <path clip-path=\"url(#p90453a91b6)\" d=\"M 35.581026 115.920005 \r\nL 43.716227 140.957575 \r\n\" style=\"fill:none;stroke:#000000;\"/>\r\n    <path clip-path=\"url(#p90453a91b6)\" d=\"M 35.581026 115.920005 \r\nL 65.014449 156.431637 \r\n\" style=\"fill:none;stroke:#000000;\"/>\r\n    <path clip-path=\"url(#p90453a91b6)\" d=\"M 43.716227 140.957575 \r\nL 65.014449 156.431637 \r\n\" style=\"fill:none;stroke:#000000;\"/>\r\n    <path clip-path=\"url(#p90453a91b6)\" d=\"M 43.716227 140.957575 \r\nL 91.340516 156.431637 \r\n\" style=\"fill:none;stroke:#000000;\"/>\r\n    <path clip-path=\"url(#p90453a91b6)\" d=\"M 65.014449 156.431637 \r\nL 91.340516 156.431637 \r\n\" style=\"fill:none;stroke:#000000;\"/>\r\n    <path clip-path=\"url(#p90453a91b6)\" d=\"M 65.014449 156.431637 \r\nL 112.638736 140.957572 \r\n\" style=\"fill:none;stroke:#000000;\"/>\r\n    <path clip-path=\"url(#p90453a91b6)\" d=\"M 91.340516 156.431637 \r\nL 112.638736 140.957572 \r\n\" style=\"fill:none;stroke:#000000;\"/>\r\n   </g>\r\n   <g id=\"PathCollection_1\">\r\n    <defs>\r\n     <path d=\"M 0 5 \r\nC 1.326016 5 2.597899 4.473168 3.535534 3.535534 \r\nC 4.473168 2.597899 5 1.326016 5 0 \r\nC 5 -1.326016 4.473168 -2.597899 3.535534 -3.535534 \r\nC 2.597899 -4.473168 1.326016 -5 0 -5 \r\nC -1.326016 -5 -2.597899 -4.473168 -3.535534 -3.535534 \r\nC -4.473168 -2.597899 -5 -1.326016 -5 0 \r\nC -5 1.326016 -4.473168 2.597899 -3.535534 3.535534 \r\nC -2.597899 4.473168 -1.326016 5 0 5 \r\nz\r\n\" id=\"mb7e491bfa3\" style=\"stroke:#ff0000;\"/>\r\n    </defs>\r\n    <g clip-path=\"url(#p90453a91b6)\">\r\n     <use style=\"fill:#ff0000;stroke:#ff0000;\" x=\"120.773937\" xlink:href=\"#mb7e491bfa3\" y=\"115.920001\"/>\r\n     <use style=\"fill:#ff0000;stroke:#ff0000;\" x=\"112.638739\" xlink:href=\"#mb7e491bfa3\" y=\"90.882433\"/>\r\n     <use style=\"fill:#ff0000;stroke:#ff0000;\" x=\"91.340509\" xlink:href=\"#mb7e491bfa3\" y=\"75.408363\"/>\r\n     <use style=\"fill:#ff0000;stroke:#ff0000;\" x=\"65.014451\" xlink:href=\"#mb7e491bfa3\" y=\"75.408366\"/>\r\n     <use style=\"fill:#ff0000;stroke:#ff0000;\" x=\"43.716222\" xlink:href=\"#mb7e491bfa3\" y=\"90.882436\"/>\r\n     <use style=\"fill:#ff0000;stroke:#ff0000;\" x=\"35.581026\" xlink:href=\"#mb7e491bfa3\" y=\"115.920005\"/>\r\n     <use style=\"fill:#ff0000;stroke:#ff0000;\" x=\"43.716227\" xlink:href=\"#mb7e491bfa3\" y=\"140.957575\"/>\r\n     <use style=\"fill:#ff0000;stroke:#ff0000;\" x=\"65.014449\" xlink:href=\"#mb7e491bfa3\" y=\"156.431637\"/>\r\n     <use style=\"fill:#ff0000;stroke:#ff0000;\" x=\"91.340516\" xlink:href=\"#mb7e491bfa3\" y=\"156.431637\"/>\r\n     <use style=\"fill:#ff0000;stroke:#ff0000;\" x=\"112.638736\" xlink:href=\"#mb7e491bfa3\" y=\"140.957572\"/>\r\n    </g>\r\n   </g>\r\n  </g>\r\n  <g id=\"axes_2\">\r\n   <g id=\"LineCollection_2\">\r\n    <path clip-path=\"url(#peb467dccbb)\" d=\"M 238.938643 115.920001 \r\nL 230.803444 90.882433 \r\n\" style=\"fill:none;stroke:#000000;\"/>\r\n    <path clip-path=\"url(#peb467dccbb)\" d=\"M 238.938643 115.920001 \r\nL 209.505215 75.408363 \r\n\" style=\"fill:none;stroke:#000000;\"/>\r\n    <path clip-path=\"url(#peb467dccbb)\" d=\"M 238.938643 115.920001 \r\nL 209.505222 156.431637 \r\n\" style=\"fill:none;stroke:#000000;\"/>\r\n    <path clip-path=\"url(#peb467dccbb)\" d=\"M 238.938643 115.920001 \r\nL 230.803442 140.957572 \r\n\" style=\"fill:none;stroke:#000000;\"/>\r\n    <path clip-path=\"url(#peb467dccbb)\" d=\"M 238.938643 115.920001 \r\nL 161.880928 90.882436 \r\n\" style=\"fill:none;stroke:#000000;\"/>\r\n    <path clip-path=\"url(#peb467dccbb)\" d=\"M 230.803444 90.882433 \r\nL 209.505215 75.408363 \r\n\" style=\"fill:none;stroke:#000000;\"/>\r\n    <path clip-path=\"url(#peb467dccbb)\" d=\"M 230.803444 90.882433 \r\nL 183.179157 75.408366 \r\n\" style=\"fill:none;stroke:#000000;\"/>\r\n    <path clip-path=\"url(#peb467dccbb)\" d=\"M 230.803444 90.882433 \r\nL 230.803442 140.957572 \r\n\" style=\"fill:none;stroke:#000000;\"/>\r\n    <path clip-path=\"url(#peb467dccbb)\" d=\"M 209.505215 75.408363 \r\nL 183.179157 75.408366 \r\n\" style=\"fill:none;stroke:#000000;\"/>\r\n    <path clip-path=\"url(#peb467dccbb)\" d=\"M 209.505215 75.408363 \r\nL 161.880928 90.882436 \r\n\" style=\"fill:none;stroke:#000000;\"/>\r\n    <path clip-path=\"url(#peb467dccbb)\" d=\"M 183.179157 75.408366 \r\nL 161.880928 90.882436 \r\n\" style=\"fill:none;stroke:#000000;\"/>\r\n    <path clip-path=\"url(#peb467dccbb)\" d=\"M 183.179157 75.408366 \r\nL 153.745732 115.920005 \r\n\" style=\"fill:none;stroke:#000000;\"/>\r\n    <path clip-path=\"url(#peb467dccbb)\" d=\"M 161.880928 90.882436 \r\nL 161.880933 140.957575 \r\n\" style=\"fill:none;stroke:#000000;\"/>\r\n    <path clip-path=\"url(#peb467dccbb)\" d=\"M 153.745732 115.920005 \r\nL 161.880933 140.957575 \r\n\" style=\"fill:none;stroke:#000000;\"/>\r\n    <path clip-path=\"url(#peb467dccbb)\" d=\"M 153.745732 115.920005 \r\nL 209.505222 156.431637 \r\n\" style=\"fill:none;stroke:#000000;\"/>\r\n    <path clip-path=\"url(#peb467dccbb)\" d=\"M 161.880933 140.957575 \r\nL 183.179155 156.431637 \r\n\" style=\"fill:none;stroke:#000000;\"/>\r\n    <path clip-path=\"url(#peb467dccbb)\" d=\"M 161.880933 140.957575 \r\nL 209.505222 156.431637 \r\n\" style=\"fill:none;stroke:#000000;\"/>\r\n    <path clip-path=\"url(#peb467dccbb)\" d=\"M 183.179155 156.431637 \r\nL 209.505222 156.431637 \r\n\" style=\"fill:none;stroke:#000000;\"/>\r\n    <path clip-path=\"url(#peb467dccbb)\" d=\"M 183.179155 156.431637 \r\nL 230.803442 140.957572 \r\n\" style=\"fill:none;stroke:#000000;\"/>\r\n    <path clip-path=\"url(#peb467dccbb)\" d=\"M 209.505222 156.431637 \r\nL 230.803442 140.957572 \r\n\" style=\"fill:none;stroke:#000000;\"/>\r\n   </g>\r\n   <g id=\"PathCollection_2\">\r\n    <g clip-path=\"url(#peb467dccbb)\">\r\n     <use style=\"fill:#ff0000;stroke:#ff0000;\" x=\"238.938643\" xlink:href=\"#mb7e491bfa3\" y=\"115.920001\"/>\r\n     <use style=\"fill:#ff0000;stroke:#ff0000;\" x=\"230.803444\" xlink:href=\"#mb7e491bfa3\" y=\"90.882433\"/>\r\n     <use style=\"fill:#ff0000;stroke:#ff0000;\" x=\"209.505215\" xlink:href=\"#mb7e491bfa3\" y=\"75.408363\"/>\r\n     <use style=\"fill:#ff0000;stroke:#ff0000;\" x=\"183.179157\" xlink:href=\"#mb7e491bfa3\" y=\"75.408366\"/>\r\n     <use style=\"fill:#ff0000;stroke:#ff0000;\" x=\"161.880928\" xlink:href=\"#mb7e491bfa3\" y=\"90.882436\"/>\r\n     <use style=\"fill:#ff0000;stroke:#ff0000;\" x=\"153.745732\" xlink:href=\"#mb7e491bfa3\" y=\"115.920005\"/>\r\n     <use style=\"fill:#ff0000;stroke:#ff0000;\" x=\"161.880933\" xlink:href=\"#mb7e491bfa3\" y=\"140.957575\"/>\r\n     <use style=\"fill:#ff0000;stroke:#ff0000;\" x=\"183.179155\" xlink:href=\"#mb7e491bfa3\" y=\"156.431637\"/>\r\n     <use style=\"fill:#ff0000;stroke:#ff0000;\" x=\"209.505222\" xlink:href=\"#mb7e491bfa3\" y=\"156.431637\"/>\r\n     <use style=\"fill:#ff0000;stroke:#ff0000;\" x=\"230.803442\" xlink:href=\"#mb7e491bfa3\" y=\"140.957572\"/>\r\n    </g>\r\n   </g>\r\n  </g>\r\n  <g id=\"axes_3\">\r\n   <g id=\"LineCollection_3\">\r\n    <path clip-path=\"url(#p13b0164855)\" d=\"M 357.103349 115.920001 \r\nL 327.669928 156.431637 \r\n\" style=\"fill:none;stroke:#000000;\"/>\r\n    <path clip-path=\"url(#p13b0164855)\" d=\"M 357.103349 115.920001 \r\nL 348.968148 140.957572 \r\n\" style=\"fill:none;stroke:#000000;\"/>\r\n    <path clip-path=\"url(#p13b0164855)\" d=\"M 357.103349 115.920001 \r\nL 271.910438 115.920005 \r\n\" style=\"fill:none;stroke:#000000;\"/>\r\n    <path clip-path=\"url(#p13b0164855)\" d=\"M 357.103349 115.920001 \r\nL 301.343863 75.408366 \r\n\" style=\"fill:none;stroke:#000000;\"/>\r\n    <path clip-path=\"url(#p13b0164855)\" d=\"M 357.103349 115.920001 \r\nL 348.96815 90.882433 \r\n\" style=\"fill:none;stroke:#000000;\"/>\r\n    <path clip-path=\"url(#p13b0164855)\" d=\"M 348.96815 90.882433 \r\nL 301.343863 75.408366 \r\n\" style=\"fill:none;stroke:#000000;\"/>\r\n    <path clip-path=\"url(#p13b0164855)\" d=\"M 348.96815 90.882433 \r\nL 327.669921 75.408363 \r\n\" style=\"fill:none;stroke:#000000;\"/>\r\n    <path clip-path=\"url(#p13b0164855)\" d=\"M 348.96815 90.882433 \r\nL 280.045634 90.882436 \r\n\" style=\"fill:none;stroke:#000000;\"/>\r\n    <path clip-path=\"url(#p13b0164855)\" d=\"M 348.96815 90.882433 \r\nL 271.910438 115.920005 \r\n\" style=\"fill:none;stroke:#000000;\"/>\r\n    <path clip-path=\"url(#p13b0164855)\" d=\"M 327.669921 75.408363 \r\nL 280.045634 90.882436 \r\n\" style=\"fill:none;stroke:#000000;\"/>\r\n    <path clip-path=\"url(#p13b0164855)\" d=\"M 327.669921 75.408363 \r\nL 301.34386 156.431637 \r\n\" style=\"fill:none;stroke:#000000;\"/>\r\n    <path clip-path=\"url(#p13b0164855)\" d=\"M 327.669921 75.408363 \r\nL 301.343863 75.408366 \r\n\" style=\"fill:none;stroke:#000000;\"/>\r\n    <path clip-path=\"url(#p13b0164855)\" d=\"M 327.669921 75.408363 \r\nL 271.910438 115.920005 \r\n\" style=\"fill:none;stroke:#000000;\"/>\r\n    <path clip-path=\"url(#p13b0164855)\" d=\"M 301.343863 75.408366 \r\nL 271.910438 115.920005 \r\n\" style=\"fill:none;stroke:#000000;\"/>\r\n    <path clip-path=\"url(#p13b0164855)\" d=\"M 301.343863 75.408366 \r\nL 280.045634 90.882436 \r\n\" style=\"fill:none;stroke:#000000;\"/>\r\n    <path clip-path=\"url(#p13b0164855)\" d=\"M 301.343863 75.408366 \r\nL 280.045639 140.957575 \r\n\" style=\"fill:none;stroke:#000000;\"/>\r\n    <path clip-path=\"url(#p13b0164855)\" d=\"M 301.343863 75.408366 \r\nL 301.34386 156.431637 \r\n\" style=\"fill:none;stroke:#000000;\"/>\r\n    <path clip-path=\"url(#p13b0164855)\" d=\"M 280.045634 90.882436 \r\nL 280.045639 140.957575 \r\n\" style=\"fill:none;stroke:#000000;\"/>\r\n    <path clip-path=\"url(#p13b0164855)\" d=\"M 280.045634 90.882436 \r\nL 327.669928 156.431637 \r\n\" style=\"fill:none;stroke:#000000;\"/>\r\n    <path clip-path=\"url(#p13b0164855)\" d=\"M 271.910438 115.920005 \r\nL 301.34386 156.431637 \r\n\" style=\"fill:none;stroke:#000000;\"/>\r\n   </g>\r\n   <g id=\"PathCollection_3\">\r\n    <g clip-path=\"url(#p13b0164855)\">\r\n     <use style=\"fill:#ff0000;stroke:#ff0000;\" x=\"357.103349\" xlink:href=\"#mb7e491bfa3\" y=\"115.920001\"/>\r\n     <use style=\"fill:#ff0000;stroke:#ff0000;\" x=\"348.96815\" xlink:href=\"#mb7e491bfa3\" y=\"90.882433\"/>\r\n     <use style=\"fill:#ff0000;stroke:#ff0000;\" x=\"327.669921\" xlink:href=\"#mb7e491bfa3\" y=\"75.408363\"/>\r\n     <use style=\"fill:#ff0000;stroke:#ff0000;\" x=\"301.343863\" xlink:href=\"#mb7e491bfa3\" y=\"75.408366\"/>\r\n     <use style=\"fill:#ff0000;stroke:#ff0000;\" x=\"280.045634\" xlink:href=\"#mb7e491bfa3\" y=\"90.882436\"/>\r\n     <use style=\"fill:#ff0000;stroke:#ff0000;\" x=\"271.910438\" xlink:href=\"#mb7e491bfa3\" y=\"115.920005\"/>\r\n     <use style=\"fill:#ff0000;stroke:#ff0000;\" x=\"280.045639\" xlink:href=\"#mb7e491bfa3\" y=\"140.957575\"/>\r\n     <use style=\"fill:#ff0000;stroke:#ff0000;\" x=\"301.34386\" xlink:href=\"#mb7e491bfa3\" y=\"156.431637\"/>\r\n     <use style=\"fill:#ff0000;stroke:#ff0000;\" x=\"327.669928\" xlink:href=\"#mb7e491bfa3\" y=\"156.431637\"/>\r\n     <use style=\"fill:#ff0000;stroke:#ff0000;\" x=\"348.968148\" xlink:href=\"#mb7e491bfa3\" y=\"140.957572\"/>\r\n    </g>\r\n   </g>\r\n  </g>\r\n </g>\r\n <defs>\r\n  <clipPath id=\"p90453a91b6\">\r\n   <rect height=\"217.44\" width=\"98.470588\" x=\"28.942188\" y=\"7.2\"/>\r\n  </clipPath>\r\n  <clipPath id=\"peb467dccbb\">\r\n   <rect height=\"217.44\" width=\"98.470588\" x=\"147.106893\" y=\"7.2\"/>\r\n  </clipPath>\r\n  <clipPath id=\"p13b0164855\">\r\n   <rect height=\"217.44\" width=\"98.470588\" x=\"265.271599\" y=\"7.2\"/>\r\n  </clipPath>\r\n </defs>\r\n</svg>\r\n",
      "image/png": "[encoded data removed]"
     },
     "metadata": {}
    }
   ],
   "source": [
    "n = 10\n",
    "k = 4\n",
    "ns = 100\n",
    "\n",
    "plt.subplot(1,3,1)\n",
    "ws = make_ws_graph(n, k, 0)\n",
    "nx.draw_circular(ws, node_size=ns)\n",
    "plt.axis('equal')\n",
    "\n",
    "plt.subplot(1,3,2)\n",
    "ws = make_ws_graph(n, k, 0.2)\n",
    "nx.draw_circular(ws, node_size=ns)\n",
    "plt.axis('equal')\n",
    "\n",
    "plt.subplot(1,3,3)\n",
    "ws = make_ws_graph(n, k, 1.0)\n",
    "nx.draw_circular(ws, node_size=ns)\n",
    "plt.axis('equal')\n",
    "\n",
    "#TODO: Set figure size\n",
    "savefig('figs/chap03-2')"
   ]
  },
  {
   "cell_type": "markdown",
   "metadata": {},
   "source": [
    "**Exercise:** What is the order of growth of `rewire`?"
   ]
  },
  {
   "cell_type": "code",
   "execution_count": 26,
   "metadata": {},
   "outputs": [],
   "source": [
    "# Solution goes here"
   ]
  },
  {
   "cell_type": "markdown",
   "metadata": {
    "collapsed": true
   },
   "source": [
    "## Clustering"
   ]
  },
  {
   "cell_type": "markdown",
   "metadata": {},
   "source": [
    "The following function computes the local clustering coefficient for a given node, `u`:"
   ]
  },
  {
   "cell_type": "code",
   "execution_count": 27,
   "metadata": {},
   "outputs": [],
   "source": [
    "def node_clustering(G, u):\n",
    "    \"\"\"Computes local clustering coefficient for `u`.\n",
    "    \n",
    "    G: Graph\n",
    "    u: node\n",
    "    \n",
    "    returns: float\n",
    "    \"\"\"\n",
    "    neighbors = G[u]\n",
    "    k = len(neighbors)\n",
    "    if k < 2:\n",
    "        return np.nan\n",
    "        \n",
    "    possible = k * (k-1) / 2\n",
    "    exist = 0    \n",
    "    for v, w in all_pairs(neighbors):\n",
    "        if G.has_edge(v, w):\n",
    "            exist +=1\n",
    "    return exist / possible\n",
    "\n",
    "def all_pairs(nodes):\n",
    "    \"\"\"Generates all pairs of nodes.\"\"\"\n",
    "    for i, u in enumerate(nodes):\n",
    "        for j, v in enumerate(nodes):\n",
    "            if i < j:\n",
    "                yield u, v"
   ]
  },
  {
   "cell_type": "markdown",
   "metadata": {},
   "source": [
    "The network average clustering coefficient is just the mean of the local CCs."
   ]
  },
  {
   "cell_type": "code",
   "execution_count": 28,
   "metadata": {},
   "outputs": [],
   "source": [
    "def clustering_coefficient(G):\n",
    "    \"\"\"Average of the local clustering coefficients.\n",
    "    \n",
    "    G: Graph\n",
    "    \n",
    "    returns: float\n",
    "    \"\"\"\n",
    "    cu = [node_clustering(G, node) for node in G]\n",
    "    return np.nanmean(cu)"
   ]
  },
  {
   "cell_type": "markdown",
   "metadata": {},
   "source": [
    "In a ring lattice with `k=4`, the clustering coefficient for each node should be 0.5"
   ]
  },
  {
   "cell_type": "code",
   "execution_count": 32,
   "metadata": {},
   "outputs": [
    {
     "output_type": "execute_result",
     "data": {
      "text/plain": [
       "0.5"
      ]
     },
     "metadata": {},
     "execution_count": 32
    }
   ],
   "source": [
    "#用环格来测试每个节点的聚集系数\n",
    "lattice = make_ring_lattice(10, 4)\n",
    "node_clustering(lattice, 5)"
   ]
  },
  {
   "cell_type": "markdown",
   "metadata": {},
   "source": [
    "And the network average should be 0.5"
   ]
  },
  {
   "cell_type": "code",
   "execution_count": 17,
   "metadata": {},
   "outputs": [],
   "source": [
    "clustering_coefficient(lattice)"
   ]
  },
  {
   "cell_type": "markdown",
   "metadata": {},
   "source": [
    "Correct."
   ]
  },
  {
   "cell_type": "code",
   "execution_count": 18,
   "metadata": {},
   "outputs": [],
   "source": [
    "%timeit clustering_coefficient(lattice)"
   ]
  },
  {
   "cell_type": "markdown",
   "metadata": {},
   "source": [
    "**Exercise:** Write a version of `node_clustering` that replaces the `for` loop with a list comprehension.  Is it faster?"
   ]
  },
  {
   "cell_type": "code",
   "execution_count": 19,
   "metadata": {},
   "outputs": [],
   "source": [
    "# Solution goes here"
   ]
  },
  {
   "cell_type": "code",
   "execution_count": 20,
   "metadata": {},
   "outputs": [],
   "source": [
    "%timeit clustering_coefficient(lattice)"
   ]
  },
  {
   "cell_type": "markdown",
   "metadata": {},
   "source": [
    "**Exercise:** What is the order of growth of `clustering_coefficient` in terms of `n`, `m`, and `k`?"
   ]
  },
  {
   "cell_type": "code",
   "execution_count": 21,
   "metadata": {},
   "outputs": [],
   "source": [
    "# Solution goes here"
   ]
  },
  {
   "cell_type": "markdown",
   "metadata": {},
   "source": [
    "## Path length"
   ]
  },
  {
   "cell_type": "markdown",
   "metadata": {},
   "source": [
    "The following function computes path lengths between all pairs of nodes"
   ]
  },
  {
   "cell_type": "code",
   "execution_count": 22,
   "metadata": {},
   "outputs": [],
   "source": [
    "def path_lengths(G):\n",
    "    length_iter = nx.shortest_path_length(G)\n",
    "    for source, dist_map in length_iter:\n",
    "        for dest, dist in dist_map.items():\n",
    "            yield dist"
   ]
  },
  {
   "cell_type": "markdown",
   "metadata": {},
   "source": [
    "The characteristic path length is the mean path length for all pairs."
   ]
  },
  {
   "cell_type": "code",
   "execution_count": 23,
   "metadata": {},
   "outputs": [],
   "source": [
    "def characteristic_path_length(G):\n",
    "    return np.mean(list(path_lengths(G)))"
   ]
  },
  {
   "cell_type": "markdown",
   "metadata": {},
   "source": [
    "On a complete graph, the average path length should be 1"
   ]
  },
  {
   "cell_type": "code",
   "execution_count": 24,
   "metadata": {},
   "outputs": [],
   "source": [
    "complete = nx.complete_graph(10)\n",
    "characteristic_path_length(complete)"
   ]
  },
  {
   "cell_type": "markdown",
   "metadata": {},
   "source": [
    "On a ring lattice with `n=1000` and `k=10`, the mean is about 50"
   ]
  },
  {
   "cell_type": "code",
   "execution_count": 25,
   "metadata": {},
   "outputs": [],
   "source": [
    "lattice = make_ring_lattice(1000, 10)\n",
    "characteristic_path_length(lattice)"
   ]
  },
  {
   "cell_type": "markdown",
   "metadata": {},
   "source": [
    "**Exercise:**  What is the mean path length in a ring lattice with `n=10` and `k=4`?"
   ]
  },
  {
   "cell_type": "code",
   "execution_count": 26,
   "metadata": {},
   "outputs": [],
   "source": [
    "# Solution goes here"
   ]
  },
  {
   "cell_type": "markdown",
   "metadata": {},
   "source": [
    "## The experiment"
   ]
  },
  {
   "cell_type": "markdown",
   "metadata": {},
   "source": [
    "This function generates a WS graph with the given parameters and returns a pair of (mean path length, clustering coefficient):"
   ]
  },
  {
   "cell_type": "code",
   "execution_count": 27,
   "metadata": {},
   "outputs": [],
   "source": [
    "def run_one_graph(n, k, p):\n",
    "    \"\"\"Makes a WS graph and computes its stats.\n",
    "    \n",
    "    n: number of nodes\n",
    "    k: degree of each node\n",
    "    p: probability of rewiring\n",
    "    \n",
    "    returns: tuple of (mean path length, clustering coefficient)\n",
    "    \"\"\"\n",
    "    ws = make_ws_graph(n, k, p)    \n",
    "    mpl = characteristic_path_length(ws)\n",
    "    cc = clustering_coefficient(ws)\n",
    "    print(mpl, cc)\n",
    "    return mpl, cc"
   ]
  },
  {
   "cell_type": "markdown",
   "metadata": {},
   "source": [
    "With `n=1000` and `k=10`, it takes a few seconds on my computer:"
   ]
  },
  {
   "cell_type": "code",
   "execution_count": 28,
   "metadata": {},
   "outputs": [],
   "source": [
    "%time run_one_graph(1000, 10, 0.01)"
   ]
  },
  {
   "cell_type": "markdown",
   "metadata": {},
   "source": [
    "Now we'll run it with a range of values for `p`."
   ]
  },
  {
   "cell_type": "code",
   "execution_count": 29,
   "metadata": {},
   "outputs": [],
   "source": [
    "ps = np.logspace(-4, 0, 9)\n",
    "print(ps)"
   ]
  },
  {
   "cell_type": "markdown",
   "metadata": {},
   "source": [
    "This function runs each value of `p` 20 times and returns a dictionary that maps from each `p` to a list of (mpl, cc) pairs."
   ]
  },
  {
   "cell_type": "code",
   "execution_count": 30,
   "metadata": {},
   "outputs": [],
   "source": [
    "def run_experiment(ps, n=1000, k=10, iters=20):\n",
    "    \"\"\"Computes stats for WS graphs with a range of `p`.\n",
    "    \n",
    "    ps: sequence of `p` to try\n",
    "    n: number of nodes\n",
    "    k: degree of each node\n",
    "    iters: number of times to run for each `p`\n",
    "    \n",
    "    returns:\n",
    "    \"\"\"\n",
    "    res = []\n",
    "    for p in ps:\n",
    "        print(p)\n",
    "        t = [run_one_graph(n, k, p) for _ in range(iters)]\n",
    "        means = np.array(t).mean(axis=0)\n",
    "        print(means)\n",
    "        res.append(means)\n",
    "    return np.array(res)"
   ]
  },
  {
   "cell_type": "markdown",
   "metadata": {},
   "source": [
    "Here are the raw results.  Warning: this takes a few minutes to run."
   ]
  },
  {
   "cell_type": "code",
   "execution_count": 31,
   "metadata": {},
   "outputs": [],
   "source": [
    "%time res = run_experiment(ps)"
   ]
  },
  {
   "cell_type": "code",
   "execution_count": 32,
   "metadata": {},
   "outputs": [],
   "source": [
    "res"
   ]
  },
  {
   "cell_type": "markdown",
   "metadata": {},
   "source": [
    "Let's get the results into a form that's easy to plot."
   ]
  },
  {
   "cell_type": "code",
   "execution_count": 33,
   "metadata": {},
   "outputs": [],
   "source": [
    "L, C = np.transpose(res)"
   ]
  },
  {
   "cell_type": "code",
   "execution_count": 34,
   "metadata": {},
   "outputs": [],
   "source": [
    "L"
   ]
  },
  {
   "cell_type": "code",
   "execution_count": 35,
   "metadata": {},
   "outputs": [],
   "source": [
    "C"
   ]
  },
  {
   "cell_type": "markdown",
   "metadata": {},
   "source": [
    "And normalize them so they both start at 1.0"
   ]
  },
  {
   "cell_type": "code",
   "execution_count": 36,
   "metadata": {},
   "outputs": [],
   "source": [
    "L /= L[0]\n",
    "C /= C[0]"
   ]
  },
  {
   "cell_type": "markdown",
   "metadata": {},
   "source": [
    "Here's the plot that replicates Watts and Strogatz's Figure 2."
   ]
  },
  {
   "cell_type": "code",
   "execution_count": 37,
   "metadata": {},
   "outputs": [],
   "source": [
    "plt.plot(ps, C, 's-', linewidth=1, label='C(p) / C(0)')\n",
    "plt.plot(ps, L, 'o-', linewidth=1, label='L(p) / L(0)')\n",
    "decorate(xlabel='Rewiring probability (p)', xscale='log',\n",
    "         title='Normalized clustering coefficient and path length',\n",
    "         xlim=[0.00009, 1.1], ylim=[-0.01, 1.01])\n",
    "\n",
    "savefig('figs/chap03-3')"
   ]
  },
  {
   "cell_type": "markdown",
   "metadata": {},
   "source": [
    "## Breadth-first search"
   ]
  },
  {
   "cell_type": "markdown",
   "metadata": {},
   "source": [
    "Now let's see how the shortest path algorithm works.  We'll start with BFS, which is the basis for Dijkstra's algorithm.\n",
    "\n",
    "Here's our old friend, the ring lattice:"
   ]
  },
  {
   "cell_type": "code",
   "execution_count": 38,
   "metadata": {},
   "outputs": [],
   "source": [
    "lattice = make_ring_lattice(10, 4)"
   ]
  },
  {
   "cell_type": "code",
   "execution_count": 39,
   "metadata": {},
   "outputs": [],
   "source": [
    "nx.draw_circular(lattice, \n",
    "                 node_color='C2', \n",
    "                 node_size=1000, \n",
    "                 with_labels=True)"
   ]
  },
  {
   "cell_type": "markdown",
   "metadata": {},
   "source": [
    "And here's my implementation of BFS using a deque."
   ]
  },
  {
   "cell_type": "code",
   "execution_count": 40,
   "metadata": {},
   "outputs": [],
   "source": [
    "from collections import deque\n",
    "\n",
    "def reachable_nodes_bfs(G, start):\n",
    "    \"\"\"Finds reachable nodes by BFS.\n",
    "    \n",
    "    G: graph\n",
    "    start: node to start at\n",
    "    \n",
    "    returns: set of reachable nodes\n",
    "    \"\"\"\n",
    "    seen = set()\n",
    "    queue = deque([start])\n",
    "    while queue:\n",
    "        node = queue.popleft()\n",
    "        if node not in seen:\n",
    "            seen.add(node)\n",
    "            queue.extend(G.neighbors(node))\n",
    "    return seen"
   ]
  },
  {
   "cell_type": "markdown",
   "metadata": {},
   "source": [
    "It works:"
   ]
  },
  {
   "cell_type": "code",
   "execution_count": 41,
   "metadata": {},
   "outputs": [],
   "source": [
    "reachable_nodes_bfs(lattice, 0)"
   ]
  },
  {
   "cell_type": "markdown",
   "metadata": {},
   "source": [
    "Here's a version that's a little faster, but maybe less readable."
   ]
  },
  {
   "cell_type": "code",
   "execution_count": 42,
   "metadata": {},
   "outputs": [],
   "source": [
    "def reachable_nodes_bfs(G, start):\n",
    "    \"\"\"Finds reachable nodes by BFS.\n",
    "    \n",
    "    G: graph\n",
    "    start: node to start at\n",
    "    \n",
    "    returns: set of reachable nodes\n",
    "    \"\"\"\n",
    "    seen = set()\n",
    "    queue = deque([start])\n",
    "    while queue:\n",
    "        node = queue.popleft()\n",
    "        if node not in seen:\n",
    "            seen.add(node)\n",
    "            neighbors = set(G[node]) - seen\n",
    "            queue.extend(neighbors)\n",
    "    return seen"
   ]
  },
  {
   "cell_type": "markdown",
   "metadata": {},
   "source": [
    "It works, too."
   ]
  },
  {
   "cell_type": "code",
   "execution_count": 43,
   "metadata": {},
   "outputs": [],
   "source": [
    "reachable_nodes_bfs(lattice, 0)"
   ]
  },
  {
   "cell_type": "markdown",
   "metadata": {},
   "source": [
    "## Dijkstra's algorithm"
   ]
  },
  {
   "cell_type": "markdown",
   "metadata": {},
   "source": [
    "Now we're ready for Dijkstra's algorithm, at least for graphs where all the edges have the same weight/length."
   ]
  },
  {
   "cell_type": "code",
   "execution_count": 44,
   "metadata": {},
   "outputs": [],
   "source": [
    "def shortest_path_dijkstra(G, source):\n",
    "    \"\"\"Finds shortest paths from `source` to all other nodes.\n",
    "    \n",
    "    G: graph\n",
    "    source: node to start at\n",
    "    \n",
    "    returns: make from node to path length\n",
    "    \"\"\"\n",
    "    dist = {source: 0}\n",
    "    queue = deque([source])\n",
    "    while queue:\n",
    "        node = queue.popleft()\n",
    "        new_dist = dist[node] + 1\n",
    "\n",
    "        neighbors = set(G[node]).difference(dist)\n",
    "        for n in neighbors:\n",
    "            dist[n] = new_dist\n",
    "        \n",
    "        queue.extend(neighbors)\n",
    "    return dist"
   ]
  },
  {
   "cell_type": "markdown",
   "metadata": {},
   "source": [
    "Again, we'll test it on a ring lattice."
   ]
  },
  {
   "cell_type": "code",
   "execution_count": 45,
   "metadata": {},
   "outputs": [],
   "source": [
    "lattice = make_ring_lattice(10, 4)"
   ]
  },
  {
   "cell_type": "code",
   "execution_count": 46,
   "metadata": {},
   "outputs": [],
   "source": [
    "nx.draw_circular(lattice, \n",
    "                 node_color='C3', \n",
    "                 node_size=1000, \n",
    "                 with_labels=True)"
   ]
  },
  {
   "cell_type": "markdown",
   "metadata": {},
   "source": [
    "Here's my implementation:"
   ]
  },
  {
   "cell_type": "code",
   "execution_count": 47,
   "metadata": {},
   "outputs": [],
   "source": [
    "d1 = shortest_path_dijkstra(lattice, 0)\n",
    "d1"
   ]
  },
  {
   "cell_type": "markdown",
   "metadata": {},
   "source": [
    "And here's the result from NetworkX:"
   ]
  },
  {
   "cell_type": "code",
   "execution_count": 48,
   "metadata": {},
   "outputs": [],
   "source": [
    "d2 = nx.shortest_path_length(lattice, 0)\n",
    "d2"
   ]
  },
  {
   "cell_type": "markdown",
   "metadata": {},
   "source": [
    "They are the same:"
   ]
  },
  {
   "cell_type": "code",
   "execution_count": 49,
   "metadata": {},
   "outputs": [],
   "source": [
    "d1 == d2"
   ]
  },
  {
   "cell_type": "markdown",
   "metadata": {
    "collapsed": true
   },
   "source": [
    "**Exercise:** In a ring lattice with `n=1000` and `k=10`, which node is farthest from 0 and how far is it?  Use `shortest_path_dijkstra` to check your answer.\n",
    "\n",
    "Note: the maximum distance between two nodes is the **diameter** of the graph."
   ]
  },
  {
   "cell_type": "code",
   "execution_count": 50,
   "metadata": {},
   "outputs": [],
   "source": [
    "# Solution goes here"
   ]
  },
  {
   "cell_type": "markdown",
   "metadata": {},
   "source": [
    "## Exercises"
   ]
  },
  {
   "cell_type": "markdown",
   "metadata": {},
   "source": [
    "**Exercise:** In a ring lattice, every node has the same number of neighbors.  The number of neighbors is called the **degree** of the node, and a graph where all nodes have the same degree is called a **regular graph**.\n",
    "\n",
    "All ring lattices are regular, but not all regular graphs are ring lattices.  In particular, if `k` is odd, we can't construct a ring lattice, but we might be able to construct a regular graph.\n",
    "\n",
    "Write a function called `make_regular_graph` that takes `n` and `k` and returns a regular graph that contains `n` nodes, where every node has `k` neighbors.  If it's not possible to make a regular graph with the given values of `n` and `k`, the function should raise a `ValueError`."
   ]
  },
  {
   "cell_type": "code",
   "execution_count": 51,
   "metadata": {},
   "outputs": [],
   "source": [
    "# Solution goes here"
   ]
  },
  {
   "cell_type": "code",
   "execution_count": 52,
   "metadata": {},
   "outputs": [],
   "source": [
    "# Solution goes here"
   ]
  },
  {
   "cell_type": "code",
   "execution_count": 53,
   "metadata": {},
   "outputs": [],
   "source": [
    "# Solution goes here"
   ]
  },
  {
   "cell_type": "code",
   "execution_count": 54,
   "metadata": {},
   "outputs": [],
   "source": [
    "# Solution goes here"
   ]
  },
  {
   "cell_type": "markdown",
   "metadata": {
    "collapsed": true
   },
   "source": [
    "**Exercise:** My implementation of `reachable_nodes_bfs` is efficient in the sense that it is in $O(n + m)$, but it incurs a lot of overhead adding nodes to the queue and removing them.  NetworkX provides a simple, fast implementation of BFS, available from [the NetworkX repository on GitHub](https://github.com/networkx/networkx/blob/master/networkx/algorithms/components/connected.py).\n",
    "\n",
    "Here is a version I modified to return a set of nodes:"
   ]
  },
  {
   "cell_type": "code",
   "execution_count": 55,
   "metadata": {},
   "outputs": [],
   "source": [
    "def plain_bfs(G, start):\n",
    "    \"\"\"A fast BFS node generator\"\"\"\n",
    "    seen = set()\n",
    "    nextlevel = {start}\n",
    "    while nextlevel:\n",
    "        thislevel = nextlevel\n",
    "        nextlevel = set()\n",
    "        for v in thislevel:\n",
    "            if v not in seen:\n",
    "                seen.add(v)\n",
    "                nextlevel.update(G[v])\n",
    "    return seen"
   ]
  },
  {
   "cell_type": "markdown",
   "metadata": {},
   "source": [
    "Compare this function to `reachable_nodes_bfs` and see which is faster.  Then see if you can modify this function to implement a faster version of `shortest_path_dijkstra`"
   ]
  },
  {
   "cell_type": "code",
   "execution_count": 56,
   "metadata": {},
   "outputs": [],
   "source": [
    "# Solution goes here"
   ]
  },
  {
   "cell_type": "code",
   "execution_count": 57,
   "metadata": {},
   "outputs": [],
   "source": [
    "# Solution goes here"
   ]
  },
  {
   "cell_type": "code",
   "execution_count": 58,
   "metadata": {},
   "outputs": [],
   "source": [
    "# Solution goes here"
   ]
  },
  {
   "cell_type": "code",
   "execution_count": 59,
   "metadata": {},
   "outputs": [],
   "source": [
    "# Solution goes here"
   ]
  },
  {
   "cell_type": "code",
   "execution_count": 60,
   "metadata": {},
   "outputs": [],
   "source": [
    "# Solution goes here"
   ]
  },
  {
   "cell_type": "code",
   "execution_count": 61,
   "metadata": {},
   "outputs": [],
   "source": [
    "# Solution goes here"
   ]
  },
  {
   "cell_type": "code",
   "execution_count": 62,
   "metadata": {},
   "outputs": [],
   "source": [
    "# Solution goes here"
   ]
  },
  {
   "cell_type": "code",
   "execution_count": 63,
   "metadata": {},
   "outputs": [],
   "source": [
    "# Solution goes here"
   ]
  },
  {
   "cell_type": "markdown",
   "metadata": {},
   "source": [
    "**Exercise:** The following implementation of a BFS contains two performance errors.  What are\n",
    "they?  What is the actual order of growth for this algorithm?"
   ]
  },
  {
   "cell_type": "code",
   "execution_count": 64,
   "metadata": {},
   "outputs": [],
   "source": [
    "def bfs(G, start):\n",
    "    \"\"\"Breadth-first search on a graph, starting at top_node.\"\"\"\n",
    "    visited = set()\n",
    "    queue = [start]\n",
    "    while len(queue):\n",
    "        curr_node = queue.pop(0)    # Dequeue\n",
    "        visited.add(curr_node)\n",
    "\n",
    "        # Enqueue non-visited and non-enqueued children\n",
    "        queue.extend(c for c in G[curr_node]\n",
    "                     if c not in visited and c not in queue)\n",
    "    return visited"
   ]
  },
  {
   "cell_type": "code",
   "execution_count": 65,
   "metadata": {},
   "outputs": [],
   "source": [
    "# Solution goes here"
   ]
  },
  {
   "cell_type": "markdown",
   "metadata": {},
   "source": [
    "**Exercise:** In the book, I claimed that Dijkstra's algorithm does not work unless it uses BFS.  Write a version of `shortest_path_dijkstra` that uses DFS and test it on a few examples to see what goes wrong."
   ]
  },
  {
   "cell_type": "code",
   "execution_count": 66,
   "metadata": {},
   "outputs": [],
   "source": [
    "# Solution goes here"
   ]
  }
 ],
 "metadata": {
  "kernelspec": {
   "display_name": "Python 3",
   "language": "python",
   "name": "python3"
  },
  "language_info": {
   "codemirror_mode": {
    "name": "ipython",
    "version": 3
   },
   "file_extension": ".py",
   "mimetype": "text/x-python",
   "name": "python",
   "nbconvert_exporter": "python",
   "pygments_lexer": "ipython3",
   "version": "3.7.3-final"
  }
 },
 "nbformat": 4,
 "nbformat_minor": 1
}